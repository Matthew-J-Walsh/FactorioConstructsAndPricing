{
 "cells": [
  {
   "cell_type": "code",
   "execution_count": 8,
   "metadata": {},
   "outputs": [
    {
     "name": "stdout",
     "output_type": "stream",
     "text": [
      "Minimal item requirements:\n",
      " {'Time': 2918.0520570406934, 'Calcite': 18.15071928389262, 'Lava': 8759.37166832644, 'Coal': 1694.505762114054, 'Sulfuric acid': 725.9609096457523}\n"
     ]
    }
   ],
   "source": [
    "import json\n",
    "from collections import defaultdict\n",
    "\n",
    "with open(\"expansion_recipes.json\") as f:\n",
    "    recipes_data = json.load(f)\n",
    "\n",
    "# Create a lookup table for recipes by output item\n",
    "recipes_by_output = defaultdict(list)\n",
    "for recipe in recipes_data:\n",
    "    for item, amount in recipe['Deltas'].items():\n",
    "        if amount > 0:  # Only consider outputs for the lookup\n",
    "            recipes_by_output[item].append(recipe)\n",
    "\n",
    "productivities = defaultdict(lambda: 1, {\"Foundry\": 1.9, \"Chemical Plant\": 1.3, \"Assembling Machine\": 1.4, \"Electromagnetic Plant\": 1.9, \"Rocket Silo\": 1.4})\n",
    "for recipe in recipes_data:\n",
    "    for item, amount in recipe['Deltas'].items():\n",
    "        if amount > 0:\n",
    "            recipe['Deltas'][item] *= productivities[recipe['Building']]\n",
    "\n",
    "def calculate_requirements(target_item, quantity, minimal_items, depth=0, max_depth=15):\n",
    "    # Terminate if recursion depth is too high\n",
    "    if depth > max_depth:\n",
    "        return None\n",
    "\n",
    "    requirements = defaultdict(float)\n",
    "    \n",
    "    # Check if the target item is a minimal item or time\n",
    "    if target_item in minimal_items or target_item == \"Time\":\n",
    "        requirements[target_item] = quantity\n",
    "        return requirements\n",
    "\n",
    "    # Try each recipe that produces the target item\n",
    "    if target_item not in recipes_by_output:\n",
    "        return None  # No recipe found for the target item\n",
    "    \n",
    "    for recipe in recipes_by_output[target_item]:\n",
    "        output_qty = recipe[\"Deltas\"][target_item]\n",
    "        multiplier = quantity / output_qty\n",
    "        temp_requirements = defaultdict(float)\n",
    "\n",
    "        for ingredient, amount in recipe[\"Deltas\"].items():\n",
    "            if ingredient == target_item:\n",
    "                continue\n",
    "            if amount > 0:\n",
    "                continue\n",
    "            needed_qty = multiplier * -amount if amount < 0 else multiplier * amount\n",
    "            sub_requirements = calculate_requirements(ingredient, needed_qty, minimal_items, depth + 1, max_depth)\n",
    "            \n",
    "            if sub_requirements is None:\n",
    "                break  # This recipe path is invalid; try another recipe\n",
    "            else:\n",
    "                # Accumulate requirements from the valid sub-path\n",
    "                for item, qty in sub_requirements.items():\n",
    "                    temp_requirements[item] += qty\n",
    "        else:\n",
    "            # If the loop didn't break, the recipe path is valid\n",
    "            for item, qty in temp_requirements.items():\n",
    "                requirements[item] += qty\n",
    "            return requirements\n",
    "\n",
    "    # If no recipe path worked, return None\n",
    "    return None\n",
    "\n",
    "# Example usage\n",
    "minimal_items = [\"Stone\", \"Calcite\", \"Lava\", \"Tungsten ore\", \"Sulfuric acid\", \"Coal\"]  # Define your minimal items here\n",
    "target_item = \"Rocket\"  # Define your target item\n",
    "quantity_needed = 1.0  # Define how much of the target item you want to produce\n",
    "\n",
    "requirements = calculate_requirements(target_item, quantity_needed, minimal_items)\n",
    "if requirements:\n",
    "    print(\"Minimal item requirements:\\n\", dict(requirements))\n",
    "else:\n",
    "    print(\"No valid way to produce the target item.\")\n",
    "\n"
   ]
  },
  {
   "cell_type": "code",
   "execution_count": null,
   "metadata": {},
   "outputs": [],
   "source": []
  }
 ],
 "metadata": {
  "kernelspec": {
   "display_name": "base",
   "language": "python",
   "name": "python3"
  },
  "language_info": {
   "codemirror_mode": {
    "name": "ipython",
    "version": 3
   },
   "file_extension": ".py",
   "mimetype": "text/x-python",
   "name": "python",
   "nbconvert_exporter": "python",
   "pygments_lexer": "ipython3",
   "version": "3.11.5"
  }
 },
 "nbformat": 4,
 "nbformat_minor": 2
}
