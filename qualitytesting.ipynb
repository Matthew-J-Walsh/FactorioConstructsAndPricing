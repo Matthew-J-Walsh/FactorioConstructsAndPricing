{
 "cells": [
  {
   "cell_type": "code",
   "execution_count": 1,
   "metadata": {},
   "outputs": [],
   "source": [
    "from sympy import *\n",
    "from IPython.display import display\n",
    "\n",
    "h = 5\n",
    "m = 5\n",
    "#h, m = symbols(\"h, m\", integer=True, positive=True, nonzero=True)\n",
    "T4qual = Rational(1, 40)# * Rational(5, 2)\n",
    "T4prod = Rational(1, 10)# * Rational(5, 2)\n",
    "q_cv, p_cv, q_rv, p_rv = 4 * T4qual, 1 + 0 * T4prod, 4 *T4qual, 1\n",
    "d_0v = [1, 0, 0, 0, 0]\n",
    "\n",
    "q_c, p_c, q_r, p_r = symbols(\"q_c, p_c, q_r, p_r\", real=True, positive=True)\n",
    "q_cs = Matrix([[*symbols(\", \".join(\"q_{c_\"+str(i)+\"}\" for i in range(1, h+1)), real=True, positive=True)]])\n",
    "p_cs = Matrix([[*symbols(\", \".join(\"p_{c_\"+str(i)+\"}\" for i in range(1, h+1)), real=True, positive=True)]])\n",
    "q_rs = Matrix([[*symbols(\", \".join(\"q_{r_\"+str(i)+\"}\" for i in range(1, h+1)), real=True, positive=True)]])\n",
    "p_rs = Matrix([[*symbols(\", \".join(\"p_{r_\"+str(i)+\"}\" for i in range(1, h+1)), real=True, positive=True)]])\n",
    "\n",
    "#display(q_cs)\n",
    "\n",
    "d_0 = Matrix([[*symbols(\", \".join(\"d_0\"+str(i) for i in range(1, h+1)), integer=True, positive=True, nonzero=True)]]).T\n",
    "\n",
    "l = Matrix([[1]*(m-1)+[0]*(h+1-m)])\n",
    "#L = diag(*l)\n",
    "\n",
    "i, j, r = symbols(\"i, j, k\", integer=True)\n",
    "\n",
    "#C_0f = Piecewise((0, i>j),(p_c-p_c*q_c*(Rational(10, 9) - 10**(1+i-h)/9), Eq(i,j)),(p_c*q_c/(10**(j-i-1)), i<j))\n",
    "#R_0f = Piecewise((0, i>j),(p_r/4-p_r/4*q_r*(Rational(10, 9) - 10**(1+i-h)/9), Eq(i,j)),(p_r*q_r/(4*10**(j-i-1)), i<j))\n",
    "Cf = Piecewise((0, i>j),(p_c-p_c*q_c*(Rational(10, 9) - 10**(2+i-h)/9), Eq(i,j)),(p_c*q_c/(10**(j-i-1)), i<j))\n",
    "Rf = Piecewise((0, i>j),(p_r/4-p_r/4*q_r*(Rational(10, 9) - 10**(2+i-h)/9), Eq(i,j)),(p_r*q_r/(4*10**(j-i-1)), i<j))\n",
    "\n",
    "#Cf = piecewise_fold(Piecewise((C_0f, i<m-1),(0, (i>=m-1) & Ne(i,j)),(1, (i>=m-1) & Eq(i,j))))\n",
    "#Rf = piecewise_fold(Piecewise((R_0f, i<m-1),(0, (i>=m-1) & Ne(i,j)),(1, (i>=m-1) & Eq(i,j))))\n",
    "\n",
    "def apply_column_based_effects(L):\n",
    "    return Matrix([[L[:,iv].subs([(q_c, q_cs[iv]), (p_c, p_cs[iv]), (q_r, q_rs[iv]), (p_r, p_rs[iv])]) for iv in range(L.shape[1])]])\n",
    "\n",
    "C = FunctionMatrix(h, h, Lambda((j, i), Cf)).as_explicit()\n",
    "R = FunctionMatrix(h, h, Lambda((j, i), Rf)).as_explicit()\n",
    "C = apply_column_based_effects(C)\n",
    "R = apply_column_based_effects(R)\n",
    "\n",
    "#display(C)\n",
    "#display(R)\n",
    "\n",
    "#CR = simplify(C * R)\n",
    "CR = (C * R)\n",
    "T = CR * diag(*l) + eye(h) - diag(*l)\n",
    "\n",
    "#display(T)\n",
    "\n",
    "def L_eigenvectors(L):\n",
    "    eigenvectors = []\n",
    "    for r in range(1, L.shape[0]+1):\n",
    "        L_minus = L - L[r-1,r-1] * eye(L.shape[0])\n",
    "        eigenvector = [0] * (r - 1) + [1]\n",
    "        for jv in range(r+1, L.shape[0]+1):\n",
    "            s = 0\n",
    "            for iv in range(1, jv):\n",
    "                s += L_minus[jv-1,iv-1] * eigenvector[iv-1]\n",
    "            if L_minus[jv-1,jv-1]==0:\n",
    "                assert s==0\n",
    "                eigenvector.append(0)\n",
    "            else:   \n",
    "                eigenvector.append(-s/L_minus[jv-1,jv-1])\n",
    "        eigenvectors.append(eigenvector)\n",
    "    return Matrix(eigenvectors).T\n",
    "\n",
    "def L_inverse(L):\n",
    "    columns = []\n",
    "    for r in range(1, L.shape[0]+1):\n",
    "        column = [0] * (r - 1) + [1 / L[r-1,r-1]]\n",
    "        for jv in range(r+1, L.shape[0]+1):\n",
    "            s = 0\n",
    "            for iv in range(1, jv):\n",
    "                s += L[jv-1,iv-1] * column[iv-1]\n",
    "            column.append(-s/L[jv-1,jv-1])\n",
    "        columns.append(column)\n",
    "    return Matrix(columns).T\n",
    "\n",
    "def D_inf_val(D):\n",
    "    return diag(*[1 if D[iv,iv]==1 else 0 for iv in range(D.shape[0])])\n",
    "\n",
    "def D_inf_sum(D):\n",
    "    #return simplify(diag(*[0 if D[iv,iv]==1 else 1/(1-D[iv,iv]) for iv in range(D.shape[0])]))\n",
    "    return diag(*[0 if D[iv,iv]==1 else 1/(1-D[iv,iv]) for iv in range(D.shape[0])])\n",
    "\n",
    "D = diag(*Matrix.diagonal(T))\n",
    "#E = simplify(L_eigenvectors(CR))\n",
    "#E_inv = simplify(L_inverse(E))\n",
    "E = L_eigenvectors(T)\n",
    "E_inv = L_inverse(E)\n",
    "\n",
    "#display(E)\n",
    "#display(D)\n",
    "#display(E_inv)"
   ]
  },
  {
   "cell_type": "code",
   "execution_count": 2,
   "metadata": {},
   "outputs": [],
   "source": [
    "d_inf = E * D_inf_val(D) * E_inv * C * d_0\n",
    "#display(d_inf)\n",
    "\n",
    "L = (l * E * D_inf_sum(D) * E_inv * C * d_0)[0,0]\n",
    "\n",
    "#display(D_inf_sum(D))\n",
    "\n",
    "val_eq = (Matrix([[1]*h]) - l) * d_inf / (L+(Matrix([[1]*h])*d_0)[0])"
   ]
  },
  {
   "cell_type": "code",
   "execution_count": 3,
   "metadata": {},
   "outputs": [
    {
     "data": {
      "text/latex": [
       "$\\displaystyle \\left[\\begin{matrix}0\\\\0\\\\0\\\\0\\\\\\frac{17399244255868723}{18594123149457885623}\\end{matrix}\\right]$"
      ],
      "text/plain": [
       "Matrix([\n",
       "[                                     0],\n",
       "[                                     0],\n",
       "[                                     0],\n",
       "[                                     0],\n",
       "[17399244255868723/18594123149457885623]])"
      ]
     },
     "metadata": {},
     "output_type": "display_data"
    },
    {
     "name": "stdout",
     "output_type": "stream",
     "text": [
      "1068.674183545997\n"
     ]
    },
    {
     "data": {
      "text/latex": [
       "$\\displaystyle \\frac{74306895620808067600}{55782369448373656869}$"
      ],
      "text/plain": [
       "74306895620808067600/55782369448373656869"
      ]
     },
     "metadata": {},
     "output_type": "display_data"
    },
    {
     "name": "stdout",
     "output_type": "stream",
     "text": [
      "1.3320856814728672\n",
      "========================================\n",
      "q_{c_1}\n",
      "0.0025273451513646347\n",
      "========================================\n",
      "q_{c_2}\n",
      "0.0007584475412404008\n",
      "========================================\n",
      "q_{c_3}\n",
      "0.0009159399492671376\n",
      "========================================\n",
      "q_{c_4}\n",
      "0.0011717628405644533\n",
      "========================================\n",
      "q_{c_5}\n",
      "0.0\n",
      "========================================\n",
      "p_{c_1}\n",
      "0.000214407519184021\n",
      "========================================\n",
      "p_{c_2}\n",
      "0.00013146209719392532\n",
      "========================================\n",
      "p_{c_3}\n",
      "0.0001656105419780607\n",
      "========================================\n",
      "p_{c_4}\n",
      "0.00019072169817397074\n",
      "========================================\n",
      "p_{c_5}\n",
      "0.00013097623025580633\n",
      "========================================\n",
      "q_{r_1}\n",
      "0.001088712661498811\n",
      "========================================\n",
      "q_{r_2}\n",
      "0.0009329958166977052\n",
      "========================================\n",
      "q_{r_3}\n",
      "0.0007778553187283808\n",
      "========================================\n",
      "q_{r_4}\n",
      "0.000545827686816392\n",
      "========================================\n",
      "q_{r_5}\n",
      "0.0\n",
      "========================================\n",
      "p_{r_1}\n",
      "0.00015651797710055016\n",
      "========================================\n",
      "p_{r_2}\n",
      "0.00018184983167141025\n",
      "========================================\n",
      "p_{r_3}\n",
      "0.00016946035956775984\n",
      "========================================\n",
      "p_{r_4}\n",
      "0.00015329556062609258\n",
      "========================================\n",
      "p_{r_5}\n",
      "0.0\n"
     ]
    }
   ],
   "source": [
    "#subs_list = [(q_c, q_cv), (p_c, p_cv), (q_r, q_rv), (p_r, p_rv)] + [(k, v) for k, v in zip(d_0, d_0v)]\n",
    "full_subs_list = [(x, q_cv) for x in q_cs] + [(x, p_cv) for x in p_cs] + [(x, q_rv) for x in q_rs] + [(x, p_rv) for x in p_rs] + [(k, v) for k, v in zip(d_0, d_0v)]\n",
    "\n",
    "#display(d_inf.subs(subs_list))\n",
    "#print(float(1/d_inf.subs(subs_list)[m-1]))\n",
    "#display(Lc.subs(subs_list))\n",
    "#print(float(Lc.subs(subs_list)))\n",
    "#display(Lr.subs(subs_list))\n",
    "#print(float(Lr.subs(subs_list)))\n",
    "\n",
    "display(d_inf.subs(full_subs_list))\n",
    "print(float(1/d_inf.subs(full_subs_list)[m-1]))\n",
    "display(L.subs(full_subs_list))\n",
    "print(float(L.subs(full_subs_list)))\n",
    "\n",
    "#derivatives = [q_c, p_c, q_r, p_r]\n",
    "full_derivatives = [*q_cs] + [*p_cs] + [*q_rs] + [*p_rs]\n",
    "for x, g in zip(full_derivatives, [val_eq.diff(x) for x in full_derivatives]):\n",
    "    print(\"========================================\")\n",
    "    print(x)\n",
    "    print(float(g.subs(full_subs_list)[0,0]))"
   ]
  },
  {
   "cell_type": "code",
   "execution_count": 4,
   "metadata": {},
   "outputs": [
    {
     "data": {
      "text/plain": [
       "[q_{c_1}, q_{c_2}, q_{c_3}, q_{c_4}, q_{c_5}]"
      ]
     },
     "execution_count": 4,
     "metadata": {},
     "output_type": "execute_result"
    }
   ],
   "source": [
    "[*q_cs]"
   ]
  },
  {
   "cell_type": "code",
   "execution_count": null,
   "metadata": {},
   "outputs": [],
   "source": []
  },
  {
   "cell_type": "code",
   "execution_count": null,
   "metadata": {},
   "outputs": [],
   "source": []
  },
  {
   "cell_type": "code",
   "execution_count": null,
   "metadata": {},
   "outputs": [],
   "source": []
  },
  {
   "cell_type": "code",
   "execution_count": null,
   "metadata": {},
   "outputs": [],
   "source": []
  }
 ],
 "metadata": {
  "language_info": {
   "name": "python"
  }
 },
 "nbformat": 4,
 "nbformat_minor": 2
}
