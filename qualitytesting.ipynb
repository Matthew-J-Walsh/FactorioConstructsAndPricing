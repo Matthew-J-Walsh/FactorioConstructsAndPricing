{
 "cells": [
  {
   "cell_type": "code",
   "execution_count": 1,
   "metadata": {},
   "outputs": [],
   "source": [
    "from sympy import *\n",
    "from IPython.display import display\n",
    "\n",
    "def quality_evaluation(starting_tier, target_tier, max_qual, base_prod, prods, quals, debug = False, gradients = False):\n",
    "    h = 5\n",
    "    m = target_tier\n",
    "    #h, m = symbols(\"h, m\", integer=True, positive=True, nonzero=True)\n",
    "    T4qual = Rational(1, 40) * (Rational(5, 2) if max_qual else Rational(1, 1)) # type: ignore\n",
    "    T4prod = Rational(1, 10) * (Rational(5, 2) if max_qual else Rational(1, 1)) # type: ignore\n",
    "    q_cv, p_cv, q_rv, p_rv = quals * T4qual, (1.5 if base_prod else 1.0) + prods * T4prod, 4 * T4qual, 1 # type: ignore\n",
    "    d_0v = [0, 0, 0, 0, 0]\n",
    "    d_0v[starting_tier] = 1\n",
    "\n",
    "    q_c, p_c, q_r, p_r = symbols(\"q_c, p_c, q_r, p_r\", real=True, positive=True)\n",
    "    q_cs = Matrix([[*symbols(\", \".join(\"q_{c_\"+str(i)+\"}\" for i in range(1, h+1)), real=True, positive=True)]])\n",
    "    p_cs = Matrix([[*symbols(\", \".join(\"p_{c_\"+str(i)+\"}\" for i in range(1, h+1)), real=True, positive=True)]])\n",
    "    q_rs = Matrix([[*symbols(\", \".join(\"q_{r_\"+str(i)+\"}\" for i in range(1, h+1)), real=True, positive=True)]])\n",
    "    p_rs = Matrix([[*symbols(\", \".join(\"p_{r_\"+str(i)+\"}\" for i in range(1, h+1)), real=True, positive=True)]])\n",
    "\n",
    "    #display(q_cs)\n",
    "\n",
    "    d_0 = Matrix([[*symbols(\", \".join(\"d_0\"+str(i) for i in range(1, h+1)), integer=True, positive=True, nonzero=True)]]).T\n",
    "\n",
    "    l = Matrix([[1]*(m-1)+[0]*(h+1-m)])\n",
    "    #L = diag(*l)\n",
    "\n",
    "    full_subs_list = [(x, q_cv) for x in q_cs] + [(x, p_cv) for x in p_cs] + [(x, q_rv) for x in q_rs] + [(x, p_rv) for x in p_rs] + [(k, v) for k, v in zip(d_0, d_0v)]\n",
    "\n",
    "    i, j, r = symbols(\"i, j, k\", integer=True)\n",
    "\n",
    "    #C_0f = Piecewise((0, i>j),(p_c-p_c*q_c*(Rational(10, 9) - 10**(1+i-h)/9), Eq(i,j)),(p_c*q_c/(10**(j-i-1)), i<j))\n",
    "    #R_0f = Piecewise((0, i>j),(p_r/4-p_r/4*q_r*(Rational(10, 9) - 10**(1+i-h)/9), Eq(i,j)),(p_r*q_r/(4*10**(j-i-1)), i<j))\n",
    "    Cf = Piecewise((0, i>j),(p_c-p_c*q_c*(Rational(10, 9) - 10**(2+i-h)/9), Eq(i,j)),(p_c*q_c/(10**(j-i-1)), i<j))\n",
    "    Rf = Piecewise((0, i>j),(p_r/4-p_r/4*q_r*(Rational(10, 9) - 10**(2+i-h)/9), Eq(i,j)),(p_r*q_r/(4*10**(j-i-1)), i<j))\n",
    "\n",
    "    #Cf = piecewise_fold(Piecewise((C_0f, i<m-1),(0, (i>=m-1) & Ne(i,j)),(1, (i>=m-1) & Eq(i,j))))\n",
    "    #Rf = piecewise_fold(Piecewise((R_0f, i<m-1),(0, (i>=m-1) & Ne(i,j)),(1, (i>=m-1) & Eq(i,j))))\n",
    "\n",
    "    def apply_column_based_effects(L):\n",
    "        return Matrix([[L[:,iv].subs([(q_c, q_cs[iv]), (p_c, p_cs[iv]), (q_r, q_rs[iv]), (p_r, p_rs[iv])]) for iv in range(L.shape[1])]])\n",
    "\n",
    "    C = FunctionMatrix(h, h, Lambda((j, i), Cf)).as_explicit()\n",
    "    R = FunctionMatrix(h, h, Lambda((j, i), Rf)).as_explicit()\n",
    "    C = apply_column_based_effects(C)\n",
    "    R = apply_column_based_effects(R)\n",
    "\n",
    "    if debug:\n",
    "        display(C.subs(full_subs_list))\n",
    "        display(R.subs(full_subs_list))\n",
    "\n",
    "    #CR = simplify(C * R)\n",
    "    CR = (C * R)\n",
    "    T = CR * diag(*l) + eye(h) - diag(*l)\n",
    "\n",
    "    if debug:\n",
    "        display(T.subs(full_subs_list))\n",
    "\n",
    "    def L_eigenvectors(L):\n",
    "        eigenvectors = []\n",
    "        for r in range(1, L.shape[0]+1):\n",
    "            L_minus = L - L[r-1,r-1] * eye(L.shape[0])\n",
    "            eigenvector = [0] * (r - 1) + [1]\n",
    "            for jv in range(r+1, L.shape[0]+1):\n",
    "                s = 0\n",
    "                for iv in range(1, jv):\n",
    "                    s += L_minus[jv-1,iv-1] * eigenvector[iv-1]\n",
    "                if L_minus[jv-1,jv-1]==0:\n",
    "                    assert s==0\n",
    "                    eigenvector.append(0)\n",
    "                else:   \n",
    "                    eigenvector.append(-s/L_minus[jv-1,jv-1])\n",
    "            eigenvectors.append(eigenvector)\n",
    "        return Matrix(eigenvectors).T\n",
    "\n",
    "    def L_inverse(L):\n",
    "        columns = []\n",
    "        for r in range(1, L.shape[0]+1):\n",
    "            column = [0] * (r - 1) + [1 / L[r-1,r-1]]\n",
    "            for jv in range(r+1, L.shape[0]+1):\n",
    "                s = 0\n",
    "                for iv in range(1, jv):\n",
    "                    s += L[jv-1,iv-1] * column[iv-1]\n",
    "                column.append(-s/L[jv-1,jv-1])\n",
    "            columns.append(column)\n",
    "        return Matrix(columns).T\n",
    "\n",
    "    def D_inf_val(D):\n",
    "        return diag(*[1 if D[iv,iv]==1 else 0 for iv in range(D.shape[0])])\n",
    "\n",
    "    def D_inf_sum(D):\n",
    "        #return simplify(diag(*[0 if D[iv,iv]==1 else 1/(1-D[iv,iv]) for iv in range(D.shape[0])]))\n",
    "        return diag(*[0 if D[iv,iv]==1 else 1/(1-D[iv,iv]) for iv in range(D.shape[0])])\n",
    "\n",
    "    D = diag(*Matrix.diagonal(T))\n",
    "    #E = simplify(L_eigenvectors(CR))\n",
    "    #E_inv = simplify(L_inverse(E))\n",
    "    E = L_eigenvectors(T)\n",
    "    E_inv = L_inverse(E)\n",
    "\n",
    "    #display(E)\n",
    "    #display(D)\n",
    "    #display(E_inv)\n",
    "\n",
    "    d_inf = E * D_inf_val(D) * E_inv * C * d_0\n",
    "    #display(d_inf)\n",
    "\n",
    "    L = (E * D_inf_sum(D) * E_inv * C * d_0)\n",
    "\n",
    "\n",
    "    #display(D_inf_sum(D))\n",
    "\n",
    "    #subs_list = [(q_c, q_cv), (p_c, p_cv), (q_r, q_rv), (p_r, p_rv)] + [(k, v) for k, v in zip(d_0, d_0v)]\n",
    "\n",
    "    #display(d_inf.subs(subs_list))\n",
    "    #print(float(1/d_inf.subs(subs_list)[m-1]))\n",
    "    #display(Lc.subs(subs_list))\n",
    "    #print(float(Lc.subs(subs_list)))\n",
    "    #display(Lr.subs(subs_list))\n",
    "    #print(float(Lr.subs(subs_list)))\n",
    "\n",
    "    if debug:\n",
    "        print(\"========================================\")\n",
    "        display(d_inf.subs(full_subs_list))\n",
    "        print(float(1/d_inf.subs(full_subs_list)[m-1]))\n",
    "        display(L.subs(full_subs_list))\n",
    "        print(float((l * L)[0,0].subs(full_subs_list)))\n",
    "    result = float(1/d_inf.subs(full_subs_list)[m-1])\n",
    "\n",
    "    #derivatives = [q_c, p_c, q_r, p_r]\n",
    "    full_derivatives = [*q_cs] + [*p_cs] + [*q_rs] + [*p_rs]\n",
    "    full_derivatives_bundle = list(zip([*q_cs], list(range(q_cs.shape[1])))) + list(zip([*p_cs], list(range(p_cs.shape[1])))) + \\\n",
    "                                         list(zip([*q_rs], list(range(q_rs.shape[1])))) + list(zip([*p_rs], list(range(p_rs.shape[1]))))\n",
    "    if gradients:\n",
    "        for x, g in zip(full_derivatives, [d_inf.diff(dt)[m-1,0] / (L+d_0)[i,0] for dt, i in full_derivatives_bundle]):\n",
    "            print(\"========================================\")\n",
    "            print(x)\n",
    "            print(float(g.subs(full_subs_list)))\n",
    "    \n",
    "    return result"
   ]
  },
  {
   "cell_type": "code",
   "execution_count": null,
   "metadata": {},
   "outputs": [],
   "source": [
    "quality_evaluation(0, 5, False, False, 0, 4, debug=True)"
   ]
  },
  {
   "cell_type": "code",
   "execution_count": null,
   "metadata": {},
   "outputs": [],
   "source": [
    "quality_evaluation(0, 5, False, False, 4, 0, debug=True)"
   ]
  },
  {
   "cell_type": "code",
   "execution_count": null,
   "metadata": {},
   "outputs": [],
   "source": [
    "output_dump: str = \"\"\n",
    "for starting_tier in range(0, 4):\n",
    "    for target_tier in range(starting_tier+1, 5+1):\n",
    "        for max_qual in [False, True]:\n",
    "            for max_assembler_modules in [4, 5]:\n",
    "                for base_prod in [False, True]:\n",
    "                    best_module_setup_quals = 0\n",
    "                    best_module_setup_prods = 0\n",
    "                    best_result = 10000000000000000000\n",
    "                    for prods in range(max_assembler_modules+1):\n",
    "                        quals = max_assembler_modules-prods\n",
    "\n",
    "                        result = quality_evaluation(starting_tier, target_tier, max_qual, base_prod, prods, quals)\n",
    "\n",
    "                        if result < best_result:\n",
    "                            best_result = result\n",
    "                            best_module_setup_quals = quals\n",
    "                            best_module_setup_prods = prods\n",
    "                        \n",
    "                    print(str(starting_tier+1)+\"->\"+str(target_tier)+(\" with max qual \" if max_qual else \" at base qual \")+\" with \"+str(max_assembler_modules)+\" modules and \"+str(50 if base_prod else 0)+\" base productivty:\\n\"+\\\n",
    "                          \"Proper setup is: \"+str(best_module_setup_prods)+\" productivity modules and \"+str(best_module_setup_quals)+\" quality modules, resulting in \"+str(best_result)+\" inputs per 1 output.\")\n",
    "                    output_dump += str(starting_tier+1)+\", \"+str(target_tier)+\", \"+str((5 if max_qual else 1))+\", \"+str(max_assembler_modules)+\", \"+str((50 if base_prod else 0))+\", \"+str(best_module_setup_prods)+\", \"+str(best_module_setup_quals)+\", \"+str(best_result)+\"\\n\""
   ]
  },
  {
   "cell_type": "code",
   "execution_count": null,
   "metadata": {},
   "outputs": [],
   "source": [
    "print(output_dump)"
   ]
  },
  {
   "cell_type": "code",
   "execution_count": null,
   "metadata": {},
   "outputs": [],
   "source": [
    "[*q_cs]"
   ]
  },
  {
   "cell_type": "code",
   "execution_count": null,
   "metadata": {},
   "outputs": [],
   "source": [
    "list(range(1, 5))"
   ]
  },
  {
   "cell_type": "code",
   "execution_count": null,
   "metadata": {},
   "outputs": [],
   "source": []
  },
  {
   "cell_type": "code",
   "execution_count": 88,
   "metadata": {},
   "outputs": [
    {
     "name": "stdout",
     "output_type": "stream",
     "text": [
      "{(N_{4}^{2})_3, (N_{3}^{2})_1, (N_{2}^{2})_2, (N_{1}^{2})_4, (N_{2}^{2})_1, (N_{1}^{2})_1, (N_{2}^{2})_3, (N_{5}^{2})_4, (N_{3}^{2})_3, (N_{1}^{2})_2, (N_{4}^{2})_1, (N_{1}^{2})_5, (N_{5}^{2})_1, (N_{5}^{2})_3, (N_{2}^{2})_4, (N_{3}^{2})_4, (N_{2}^{2})_5, (N_{5}^{2})_5, (N_{4}^{2})_4, (N_{4}^{2})_5, (N_{3}^{2})_2, (N_{3}^{2})_5, (N_{5}^{2})_2, (N_{4}^{2})_2, (N_{1}^{2})_3}\n"
     ]
    },
    {
     "data": {
      "text/latex": [
       "$\\displaystyle (N_{3}^{1})_1 = \\frac{p_{m_3} \\left(- 110 (N_{4}^{1})_1 p_{r_3} q_{m_3} q_{r_3} + 100 (N_{4}^{1})_1 p_{r_3} q_{r_3} - 100 (N_{4}^{1})_1 p_{r_4} q_{m_3} q_{r_4} + 100 (N_{4}^{1})_1 p_{r_4} q_{m_3} - 11 (N_{5}^{1})_1 p_{r_3} q_{m_3} q_{r_3} + 10 (N_{5}^{1})_1 p_{r_3} q_{r_3} + 100 (N_{5}^{1})_1 p_{r_4} q_{m_3} q_{r_4}\\right)}{- 121 p_{m_3} p_{r_3} q_{m_3} q_{r_3} + 110 p_{m_3} p_{r_3} q_{m_3} + 110 p_{m_3} p_{r_3} q_{r_3} - 100 p_{m_3} p_{r_3} + 400}$"
      ],
      "text/plain": [
       "Eq((N_{3}^{1})_1, p_{m_3}*(-110*(N_{4}^{1})_1*p_{r_3}*q_{m_3}*q_{r_3} + 100*(N_{4}^{1})_1*p_{r_3}*q_{r_3} - 100*(N_{4}^{1})_1*p_{r_4}*q_{m_3}*q_{r_4} + 100*(N_{4}^{1})_1*p_{r_4}*q_{m_3} - 11*(N_{5}^{1})_1*p_{r_3}*q_{m_3}*q_{r_3} + 10*(N_{5}^{1})_1*p_{r_3}*q_{r_3} + 100*(N_{5}^{1})_1*p_{r_4}*q_{m_3}*q_{r_4})/(-121*p_{m_3}*p_{r_3}*q_{m_3}*q_{r_3} + 110*p_{m_3}*p_{r_3}*q_{m_3} + 110*p_{m_3}*p_{r_3}*q_{r_3} - 100*p_{m_3}*p_{r_3} + 400))"
      ]
     },
     "metadata": {},
     "output_type": "display_data"
    },
    {
     "data": {
      "text/latex": [
       "$\\displaystyle (N_{3}^{1})_2 = \\frac{p_{m_3} \\left(- 110 (N_{4}^{1})_2 p_{r_3} q_{m_3} q_{r_3} + 100 (N_{4}^{1})_2 p_{r_3} q_{r_3} - 100 (N_{4}^{1})_2 p_{r_4} q_{m_3} q_{r_4} + 100 (N_{4}^{1})_2 p_{r_4} q_{m_3} - 11 (N_{5}^{1})_2 p_{r_3} q_{m_3} q_{r_3} + 10 (N_{5}^{1})_2 p_{r_3} q_{r_3} + 100 (N_{5}^{1})_2 p_{r_4} q_{m_3} q_{r_4}\\right)}{- 121 p_{m_3} p_{r_3} q_{m_3} q_{r_3} + 110 p_{m_3} p_{r_3} q_{m_3} + 110 p_{m_3} p_{r_3} q_{r_3} - 100 p_{m_3} p_{r_3} + 400}$"
      ],
      "text/plain": [
       "Eq((N_{3}^{1})_2, p_{m_3}*(-110*(N_{4}^{1})_2*p_{r_3}*q_{m_3}*q_{r_3} + 100*(N_{4}^{1})_2*p_{r_3}*q_{r_3} - 100*(N_{4}^{1})_2*p_{r_4}*q_{m_3}*q_{r_4} + 100*(N_{4}^{1})_2*p_{r_4}*q_{m_3} - 11*(N_{5}^{1})_2*p_{r_3}*q_{m_3}*q_{r_3} + 10*(N_{5}^{1})_2*p_{r_3}*q_{r_3} + 100*(N_{5}^{1})_2*p_{r_4}*q_{m_3}*q_{r_4})/(-121*p_{m_3}*p_{r_3}*q_{m_3}*q_{r_3} + 110*p_{m_3}*p_{r_3}*q_{m_3} + 110*p_{m_3}*p_{r_3}*q_{r_3} - 100*p_{m_3}*p_{r_3} + 400))"
      ]
     },
     "metadata": {},
     "output_type": "display_data"
    },
    {
     "data": {
      "text/latex": [
       "$\\displaystyle (N_{3}^{1})_3 = \\frac{p_{m_3} \\left(- 110 (N_{4}^{1})_3 p_{r_3} q_{m_3} q_{r_3} + 100 (N_{4}^{1})_3 p_{r_3} q_{r_3} - 100 (N_{4}^{1})_3 p_{r_4} q_{m_3} q_{r_4} + 100 (N_{4}^{1})_3 p_{r_4} q_{m_3} - 11 (N_{5}^{1})_3 p_{r_3} q_{m_3} q_{r_3} + 10 (N_{5}^{1})_3 p_{r_3} q_{r_3} + 100 (N_{5}^{1})_3 p_{r_4} q_{m_3} q_{r_4}\\right)}{- 121 p_{m_3} p_{r_3} q_{m_3} q_{r_3} + 110 p_{m_3} p_{r_3} q_{m_3} + 110 p_{m_3} p_{r_3} q_{r_3} - 100 p_{m_3} p_{r_3} + 400}$"
      ],
      "text/plain": [
       "Eq((N_{3}^{1})_3, p_{m_3}*(-110*(N_{4}^{1})_3*p_{r_3}*q_{m_3}*q_{r_3} + 100*(N_{4}^{1})_3*p_{r_3}*q_{r_3} - 100*(N_{4}^{1})_3*p_{r_4}*q_{m_3}*q_{r_4} + 100*(N_{4}^{1})_3*p_{r_4}*q_{m_3} - 11*(N_{5}^{1})_3*p_{r_3}*q_{m_3}*q_{r_3} + 10*(N_{5}^{1})_3*p_{r_3}*q_{r_3} + 100*(N_{5}^{1})_3*p_{r_4}*q_{m_3}*q_{r_4})/(-121*p_{m_3}*p_{r_3}*q_{m_3}*q_{r_3} + 110*p_{m_3}*p_{r_3}*q_{m_3} + 110*p_{m_3}*p_{r_3}*q_{r_3} - 100*p_{m_3}*p_{r_3} + 400))"
      ]
     },
     "metadata": {},
     "output_type": "display_data"
    },
    {
     "data": {
      "text/latex": [
       "$\\displaystyle (N_{3}^{1})_4 = \\frac{p_{m_3} \\left(- 110 (N_{4}^{1})_4 p_{r_3} q_{m_3} q_{r_3} + 100 (N_{4}^{1})_4 p_{r_3} q_{r_3} - 100 (N_{4}^{1})_4 p_{r_4} q_{m_3} q_{r_4} + 100 (N_{4}^{1})_4 p_{r_4} q_{m_3} - 11 (N_{5}^{1})_4 p_{r_3} q_{m_3} q_{r_3} + 10 (N_{5}^{1})_4 p_{r_3} q_{r_3} + 100 (N_{5}^{1})_4 p_{r_4} q_{m_3} q_{r_4}\\right)}{- 121 p_{m_3} p_{r_3} q_{m_3} q_{r_3} + 110 p_{m_3} p_{r_3} q_{m_3} + 110 p_{m_3} p_{r_3} q_{r_3} - 100 p_{m_3} p_{r_3} + 400}$"
      ],
      "text/plain": [
       "Eq((N_{3}^{1})_4, p_{m_3}*(-110*(N_{4}^{1})_4*p_{r_3}*q_{m_3}*q_{r_3} + 100*(N_{4}^{1})_4*p_{r_3}*q_{r_3} - 100*(N_{4}^{1})_4*p_{r_4}*q_{m_3}*q_{r_4} + 100*(N_{4}^{1})_4*p_{r_4}*q_{m_3} - 11*(N_{5}^{1})_4*p_{r_3}*q_{m_3}*q_{r_3} + 10*(N_{5}^{1})_4*p_{r_3}*q_{r_3} + 100*(N_{5}^{1})_4*p_{r_4}*q_{m_3}*q_{r_4})/(-121*p_{m_3}*p_{r_3}*q_{m_3}*q_{r_3} + 110*p_{m_3}*p_{r_3}*q_{m_3} + 110*p_{m_3}*p_{r_3}*q_{r_3} - 100*p_{m_3}*p_{r_3} + 400))"
      ]
     },
     "metadata": {},
     "output_type": "display_data"
    },
    {
     "data": {
      "text/latex": [
       "$\\displaystyle (N_{3}^{1})_5 = \\frac{p_{m_3} \\left(- 110 (N_{4}^{1})_5 p_{r_3} q_{m_3} q_{r_3} + 100 (N_{4}^{1})_5 p_{r_3} q_{r_3} - 100 (N_{4}^{1})_5 p_{r_4} q_{m_3} q_{r_4} + 100 (N_{4}^{1})_5 p_{r_4} q_{m_3} - 11 (N_{5}^{1})_5 p_{r_3} q_{m_3} q_{r_3} + 10 (N_{5}^{1})_5 p_{r_3} q_{r_3} + 100 (N_{5}^{1})_5 p_{r_4} q_{m_3} q_{r_4}\\right)}{- 121 p_{m_3} p_{r_3} q_{m_3} q_{r_3} + 110 p_{m_3} p_{r_3} q_{m_3} + 110 p_{m_3} p_{r_3} q_{r_3} - 100 p_{m_3} p_{r_3} + 400}$"
      ],
      "text/plain": [
       "Eq((N_{3}^{1})_5, p_{m_3}*(-110*(N_{4}^{1})_5*p_{r_3}*q_{m_3}*q_{r_3} + 100*(N_{4}^{1})_5*p_{r_3}*q_{r_3} - 100*(N_{4}^{1})_5*p_{r_4}*q_{m_3}*q_{r_4} + 100*(N_{4}^{1})_5*p_{r_4}*q_{m_3} - 11*(N_{5}^{1})_5*p_{r_3}*q_{m_3}*q_{r_3} + 10*(N_{5}^{1})_5*p_{r_3}*q_{r_3} + 100*(N_{5}^{1})_5*p_{r_4}*q_{m_3}*q_{r_4})/(-121*p_{m_3}*p_{r_3}*q_{m_3}*q_{r_3} + 110*p_{m_3}*p_{r_3}*q_{m_3} + 110*p_{m_3}*p_{r_3}*q_{r_3} - 100*p_{m_3}*p_{r_3} + 400))"
      ]
     },
     "metadata": {},
     "output_type": "display_data"
    },
    {
     "name": "stdout",
     "output_type": "stream",
     "text": [
      "==========================\n"
     ]
    }
   ],
   "source": [
    "#newmethod\n",
    "from sympy import *\n",
    "from sympy.stats import *\n",
    "from IPython.display import display\n",
    "\n",
    "\n",
    "kappa = 5\n",
    "m = 6\n",
    "T4qual = Rational(1, 40) * Rational(5, 2) # type: ignore\n",
    "T4prod = Rational(1, 10) * Rational(5, 2) # type: ignore\n",
    "\n",
    "q_ms = Matrix([[*symbols(\", \".join(\"q_{m_\"+str(i)+\"}\" for i in range(1, kappa+1)), rational=True, positive=True)]])\n",
    "q_rs = Matrix([[*symbols(\", \".join(\"q_{r_\"+str(i)+\"}\" for i in range(1, kappa+1)), rational=True, positive=True)]])\n",
    "p_ms = Matrix([[*symbols(\", \".join(\"p_{m_\"+str(i)+\"}\" for i in range(1, kappa+1)), rational=True, positive=True)]])\n",
    "p_rs = Matrix([[*symbols(\", \".join(\"p_{r_\"+str(i)+\"}\" for i in range(1, kappa+1)), rational=True, positive=True)]])\n",
    "\n",
    "MRVs = [FiniteRV('M'+str(i), {j: 1-q_ms[i-1]*(Rational(10,9) - Rational(Pow(10,(1-(kappa-i))),9)) if i==j else q_ms[i-1]*Rational(1,10**(j-i-1)) for j in range(i, kappa+1)}) for i in range(1, kappa+1)] # type: ignore\n",
    "#RRVs = [FiniteRV('R'+str(i), dict([(0, Rational(3,4))]+[(j, Rational(1,4) * (1-q_rs[i-1]*(Rational(10,9) - Rational(Pow(10,(1-(kappa-i))),9)) if i==j else q_rs[i-1]*Rational(1,10**(j-i-1)))) for j in range(i, kappa+1)])) for i in range(1, kappa+1)] # type: ignore\n",
    "RRVs  = [FiniteRV('R'+str(i), {j: 1-q_rs[i-1]*(Rational(10,9) - Rational(Pow(10,(1-(kappa-i))),9)) if i==j else q_rs[i-1]*Rational(1,10**(j-i-1)) for j in range(i, kappa+1)}) for i in range(1, kappa+1)] # type: ignore\n",
    "\n",
    "es = [eye(kappa).col(i) for i in range(kappa)]\n",
    "\n",
    "binom = Binomial('B', m, Rational(1, 4))\n",
    "\n",
    "special_subs = [(q_rs[0, i], 4 * T4qual) for i in range(kappa)] + [(p_rs[0, i], 1) for i in range(kappa)] + [(q_ms[0, i], 5 * T4qual) for i in range(kappa)] + [(p_ms[0, i], 1 + Rational(1, 2)) for i in range(kappa-1)]+[(p_ms[0, kappa-1], 1 + Rational(1, 2) + 5 * T4prod)]\n",
    "\n",
    "N_i_moment_symbol_cache = {}\n",
    "def N_i_moment_symbols(n: int):\n",
    "    if not n in N_i_moment_symbol_cache.keys():\n",
    "        N_i_moment_symbol_cache[n] = [Matrix([*symbols(\", \".join(\"(N_{\"+str(i)+\"}^{\"+str(n)+\"})_\"+str(j) for j in range(1, kappa+1)), rational=True)]) for i in range(1, kappa+1)]\n",
    "\n",
    "    return N_i_moment_symbol_cache[n]\n",
    "\n",
    "def N_i_moment_n_eq(i: int, n: int):\n",
    "    moment_symbols = N_i_moment_symbols(n)\n",
    "    s = Matrix.zeros(kappa, 1)\n",
    "\n",
    "    for j in range(1, kappa):\n",
    "        r = Matrix.zeros(kappa, 1)\n",
    "        for k in range(1, kappa+1):\n",
    "            rv = P(Eq(RRVs[j-1], k)) * moment_symbols[k-1]\n",
    "            if r == Matrix.zeros(kappa, 1):\n",
    "                r = rv\n",
    "            else:\n",
    "                r += rv\n",
    "\n",
    "        s += P(Eq(MRVs[i-1], j)) * Pow(p_rs[j-1], n) * r\n",
    "    \n",
    "    s *= Pow(p_ms[i-1], n) * moment(binom, n, 0) / Pow(m, n) # type: ignore\n",
    "    \n",
    "    s += Pow(p_ms[i-1], n) * P(Eq(MRVs[i-1], kappa)) * es[kappa-1]\n",
    "\n",
    "    return [Eq(symb, solve(Eq(symb, s_v), symb)[0]) for symb, s_v in zip(moment_symbols[i-1], s)]\n",
    "\n",
    "def input_N_i_moment_n_eq(i: int, n: int):\n",
    "    moment_symbols = N_i_moment_symbols(n)\n",
    "    s = Matrix.zeros(kappa, 1)\n",
    "\n",
    "    if i==kappa:\n",
    "        s = es[kappa-1]\n",
    "\n",
    "    else:\n",
    "        for j in range(1, kappa):\n",
    "            r = Matrix.zeros(kappa, 1)\n",
    "            for k in range(1, kappa+1):\n",
    "                rv = P(Eq(RRVs[j-1], k)) * moment_symbols[k-1]\n",
    "                if r == Matrix.zeros(kappa, 1):\n",
    "                    r = rv\n",
    "                else:\n",
    "                    r += rv\n",
    "\n",
    "            s += P(Eq(MRVs[i-1], j)) * Pow(p_rs[j-1], n) * r\n",
    "        \n",
    "        s *= Pow(p_ms[i-1], n) * moment(binom, n, 0) / Pow(m, n) # type: ignore\n",
    "\n",
    "    return [Eq(symb, solve(Eq(symb, s_v), symb)[0]) for symb, s_v in zip(moment_symbols[i-1], s)]\n",
    "\n",
    "def N_moment_n_closed_forms(n: int):\n",
    "    eqs = [N_i_moment_n_eq(i, n) for i in range(1, kappa+1)]\n",
    "    solutions = {eqs[-1][-1].lhs: eqs[-1][-1].rhs}\n",
    "    for i in range(kappa-1, -1, -1):\n",
    "        for j in range(kappa-1, -1, -1):\n",
    "            solutions[eqs[i][j].lhs] = eqs[i][j].rhs.subs(solutions)\n",
    "\n",
    "    out = {}\n",
    "    for k, v in solutions.items():\n",
    "        if int(str(k)[-1])==kappa:\n",
    "            out[k] = v\n",
    "    return out\n",
    "\n",
    "def input_N_moment_n_closed_forms(n: int):\n",
    "    eqs = [input_N_i_moment_n_eq(i, n) for i in range(1, kappa+1)]\n",
    "    solutions = {eqs[-1][-1].lhs: eqs[-1][-1].rhs}\n",
    "    for i in range(kappa-1, -1, -1):\n",
    "        for j in range(kappa-1, -1, -1):\n",
    "            solutions[eqs[i][j].lhs] = eqs[i][j].rhs.subs(solutions)\n",
    "\n",
    "    out = {}\n",
    "    for k, v in solutions.items():\n",
    "        if int(str(k)[-1])==kappa:\n",
    "            out[k] = v\n",
    "    return out\n",
    "    \n",
    "#display(N_i_moment_symbols(2, 5))\n",
    "symbs = set()\n",
    "for N_i_symbs in N_i_moment_symbols(2):\n",
    "    symbs.update(N_i_symbs.free_symbols)\n",
    "print(symbs)\n",
    "for equation in input_N_i_moment_n_eq(3, 1):\n",
    "    display(equation)\n",
    "    #print(solve(equation, symbs)[0])\n",
    "print(\"==========================\")\n",
    "valuable_first_moments = N_moment_n_closed_forms(1)\n",
    "#for k, fm in valuable_first_moments.items():\n",
    "#    display(Eq(k, fm))\n",
    "valuable_second_moments = N_moment_n_closed_forms(2)\n",
    "#for k, sm in valuable_second_moments.items():\n",
    "#    display(Eq(k, sm))\n",
    "input_valuable_first_moments = input_N_moment_n_closed_forms(1)\n",
    "input_valuable_second_moments = input_N_moment_n_closed_forms(2)"
   ]
  },
  {
   "cell_type": "code",
   "execution_count": 90,
   "metadata": {},
   "outputs": [
    {
     "data": {
      "text/plain": [
       "([1,\n",
       "  1/5,\n",
       "  4249/72153,\n",
       "  897021151/47203382487,\n",
       "  56507468796165187/9265695305045843019],\n",
       " [1,\n",
       "  3/23,\n",
       "  1631259/60757099,\n",
       "  12978930861567/2161964388670567,\n",
       "  108488420298805297311/76174724615243583806711],\n",
       " [(2, 2), (2, 2), (3, 1), (4, 0), (4, 0)],\n",
       " [(3/2, 1/8), (3/2, 1/8), (7/4, 1/16), (2, 0), (2, 0)])"
      ]
     },
     "execution_count": 90,
     "metadata": {},
     "output_type": "execute_result"
    }
   ],
   "source": [
    "import itertools\n",
    "\n",
    "def calculate_best_setup(mod_count: int, base_prod: Rational):\n",
    "    global_subs = [(q_rs[0, i], 4 * T4qual) for i in range(kappa)] + [(p_rs[0, i], 1) for i in range(kappa)]\n",
    "    reduced = [vfm.subs(global_subs) for vfm in valuable_first_moments.values()]\n",
    "    reduced_variances = [vsm.subs(global_subs) for vsm in valuable_second_moments.values()]\n",
    "    best_setups = []\n",
    "    best_module_values = []\n",
    "    for i in range(0, kappa):\n",
    "        best = None\n",
    "        best_val = 0\n",
    "        for pc in range(0, mod_count+1):\n",
    "            val = reduced[i].subs([(p_ms[0, kappa - i - 1], T4prod * pc + base_prod + 1), (q_ms[0, kappa - i - 1], (mod_count - pc) * T4qual)])\n",
    "            if val >= best_val:\n",
    "                best = (pc, mod_count - pc)\n",
    "                best_val = val\n",
    "\n",
    "        assert not best is None\n",
    "        reduced = [r.subs([(p_ms[0, kappa - i - 1], T4prod * best[0] + base_prod + 1), (q_ms[0, kappa - i - 1], best[1] * T4qual)]) for r in reduced]\n",
    "        reduced_variances = [r.subs([(p_ms[0, kappa - i - 1], T4prod * best[0] + base_prod + 1), (q_ms[0, kappa - i - 1], best[1] * T4qual)]) for r in reduced_variances]\n",
    "        best_setups.insert(0, best)\n",
    "        best_module_values.insert(0, (T4prod * best[0] + base_prod + 1, best[1] * T4qual))\n",
    "    \n",
    "    return reduced, reduced_variances, best_setups, best_module_values\n",
    "\n",
    "def calculate_best_input_setup(mod_count: int, base_prod: Rational):\n",
    "    global_subs = [(q_rs[0, i], 4 * T4qual) for i in range(kappa)] + [(p_rs[0, i], 1) for i in range(kappa)]\n",
    "    reduced = [vfm.subs(global_subs) for vfm in input_valuable_first_moments.values()]\n",
    "    reduced_variances = [vsm.subs(global_subs) for vsm in input_valuable_second_moments.values()]\n",
    "    best_setups = []\n",
    "    best_module_values = []\n",
    "    for i in range(0, kappa):\n",
    "        best = None\n",
    "        best_val = 0\n",
    "        for pc in range(0, mod_count+1):\n",
    "            val = reduced[i].subs([(p_ms[0, kappa - i - 1], T4prod * pc + base_prod + 1), (q_ms[0, kappa - i - 1], (mod_count - pc) * T4qual)])\n",
    "            if val >= best_val:\n",
    "                best = (pc, mod_count - pc)\n",
    "                best_val = val\n",
    "\n",
    "        assert not best is None\n",
    "        reduced = [r.subs([(p_ms[0, kappa - i - 1], T4prod * best[0] + base_prod + 1), (q_ms[0, kappa - i - 1], best[1] * T4qual)]) for r in reduced]\n",
    "        reduced_variances = [r.subs([(p_ms[0, kappa - i - 1], T4prod * best[0] + base_prod + 1), (q_ms[0, kappa - i - 1], best[1] * T4qual)]) for r in reduced_variances]\n",
    "        best_setups.insert(0, best)\n",
    "        best_module_values.insert(0, (T4prod * best[0] + base_prod + 1, best[1] * T4qual))\n",
    "    \n",
    "    return reduced, reduced_variances, best_setups, best_module_values\n",
    "\n",
    "calculate_best_input_setup(4, Rational(0, 2))"
   ]
  },
  {
   "cell_type": "code",
   "execution_count": 54,
   "metadata": {},
   "outputs": [
    {
     "data": {
      "text/plain": [
       "0.47091418144393127"
      ]
     },
     "execution_count": 54,
     "metadata": {},
     "output_type": "execute_result"
    }
   ],
   "source": [
    "float(list(valuable_first_moments.values())[-1].subs([(q_rs[0, i], 4 * T4qual) for i in range(kappa)] + [(p_rs[0, i], 1) for i in range(kappa)] + [(q_ms[0, i], 5 * T4qual) for i in range(kappa)] + [(p_ms[0, i], 1 + Rational(1, 2)) for i in range(kappa-1)]+[(p_ms[0, kappa-1], 1 + Rational(1, 2) + 5 * T4prod)]))"
   ]
  },
  {
   "cell_type": "code",
   "execution_count": 56,
   "metadata": {},
   "outputs": [
    {
     "data": {
      "text/latex": [
       "$\\displaystyle \\frac{5}{16}$"
      ],
      "text/plain": [
       "5/16"
      ]
     },
     "execution_count": 56,
     "metadata": {},
     "output_type": "execute_result"
    }
   ],
   "source": [
    "5 * T4qual"
   ]
  },
  {
   "cell_type": "code",
   "execution_count": 74,
   "metadata": {},
   "outputs": [
    {
     "data": {
      "text/latex": [
       "$\\displaystyle 1$"
      ],
      "text/plain": [
       "1"
      ]
     },
     "metadata": {},
     "output_type": "display_data"
    },
    {
     "data": {
      "text/latex": [
       "$\\displaystyle \\frac{- p_{m_4} p_{r_4} q_{m_4} q_{r_4} + p_{m_4} p_{r_4} q_{r_4} + 4}{- p_{m_4} p_{r_4} q_{m_4} q_{r_4} + p_{m_4} p_{r_4} q_{m_4} + p_{m_4} p_{r_4} q_{r_4} - p_{m_4} p_{r_4} + 4}$"
      ],
      "text/plain": [
       "(-p_{m_4}*p_{r_4}*q_{m_4}*q_{r_4} + p_{m_4}*p_{r_4}*q_{r_4} + 4)/(-p_{m_4}*p_{r_4}*q_{m_4}*q_{r_4} + p_{m_4}*p_{r_4}*q_{m_4} + p_{m_4}*p_{r_4}*q_{r_4} - p_{m_4}*p_{r_4} + 4)"
      ]
     },
     "metadata": {},
     "output_type": "display_data"
    }
   ],
   "source": [
    "for v in list(input_valuable_first_moments.values())[:2]:\n",
    "    display(v)"
   ]
  },
  {
   "cell_type": "code",
   "execution_count": 22,
   "metadata": {},
   "outputs": [
    {
     "data": {
      "text/latex": [
       "$\\displaystyle \\frac{1}{4}$"
      ],
      "text/plain": [
       "1/4"
      ]
     },
     "execution_count": 22,
     "metadata": {},
     "output_type": "execute_result"
    }
   ],
   "source": [
    "moment(binom, 1, 0) / m"
   ]
  },
  {
   "cell_type": "code",
   "execution_count": null,
   "metadata": {},
   "outputs": [],
   "source": [
    "solve(Eq(q_ms[0], 1), [q_ms[0], q_ms[1]])"
   ]
  },
  {
   "cell_type": "code",
   "execution_count": null,
   "metadata": {},
   "outputs": [],
   "source": [
    "A = MatrixSymbol('A', 2, 2)\n",
    "\n",
    "# Define a 2x2 zero matrix\n",
    "zero_matrix = Matrix.zeros(2, 2)\n",
    "\n",
    "display(A[0, 1])\n",
    "\n",
    "# Create a list of scalar equations for each element of the matrix A\n",
    "equations = [Eq(A[i, j], zero_matrix[i, j]) for i in range(2) for j in range(2)]\n",
    "\n",
    "display(equations)\n",
    "\n",
    "# Solve the system of equations for A's elements\n",
    "solution = solve(equations)\n",
    "\n",
    "# Print the solution\n",
    "print(solution)"
   ]
  },
  {
   "cell_type": "code",
   "execution_count": null,
   "metadata": {},
   "outputs": [],
   "source": []
  }
 ],
 "metadata": {
  "kernelspec": {
   "display_name": "base",
   "language": "python",
   "name": "python3"
  },
  "language_info": {
   "codemirror_mode": {
    "name": "ipython",
    "version": 3
   },
   "file_extension": ".py",
   "mimetype": "text/x-python",
   "name": "python",
   "nbconvert_exporter": "python",
   "pygments_lexer": "ipython3",
   "version": "3.11.5"
  }
 },
 "nbformat": 4,
 "nbformat_minor": 2
}
