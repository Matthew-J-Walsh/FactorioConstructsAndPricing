{
 "cells": [
  {
   "cell_type": "code",
   "execution_count": 1,
   "metadata": {},
   "outputs": [],
   "source": [
    "from sympy import *\n",
    "from IPython.display import display\n",
    "\n",
    "def quality_evaluation(starting_tier, target_tier, max_qual, base_prod, prods, quals, debug = False, gradients = False):\n",
    "    h = 5\n",
    "    m = target_tier\n",
    "    #h, m = symbols(\"h, m\", integer=True, positive=True, nonzero=True)\n",
    "    T4qual = Rational(1, 40) * (Rational(5, 2) if max_qual else Rational(1, 1)) # type: ignore\n",
    "    T4prod = Rational(1, 10) * (Rational(5, 2) if max_qual else Rational(1, 1)) # type: ignore\n",
    "    q_cv, p_cv, q_rv, p_rv = quals * T4qual, (1.5 if base_prod else 1.0) + prods * T4prod, 4 * T4qual, 1 # type: ignore\n",
    "    d_0v = [0, 0, 0, 0, 0]\n",
    "    d_0v[starting_tier] = 1\n",
    "\n",
    "    q_c, p_c, q_r, p_r = symbols(\"q_c, p_c, q_r, p_r\", real=True, positive=True)\n",
    "    q_cs = Matrix([[*symbols(\", \".join(\"q_{c_\"+str(i)+\"}\" for i in range(1, h+1)), real=True, positive=True)]])\n",
    "    p_cs = Matrix([[*symbols(\", \".join(\"p_{c_\"+str(i)+\"}\" for i in range(1, h+1)), real=True, positive=True)]])\n",
    "    q_rs = Matrix([[*symbols(\", \".join(\"q_{r_\"+str(i)+\"}\" for i in range(1, h+1)), real=True, positive=True)]])\n",
    "    p_rs = Matrix([[*symbols(\", \".join(\"p_{r_\"+str(i)+\"}\" for i in range(1, h+1)), real=True, positive=True)]])\n",
    "\n",
    "    #display(q_cs)\n",
    "\n",
    "    d_0 = Matrix([[*symbols(\", \".join(\"d_0\"+str(i) for i in range(1, h+1)), integer=True, positive=True, nonzero=True)]]).T\n",
    "\n",
    "    l = Matrix([[1]*(m-1)+[0]*(h+1-m)])\n",
    "    #L = diag(*l)\n",
    "\n",
    "    full_subs_list = [(x, q_cv) for x in q_cs] + [(x, p_cv) for x in p_cs] + [(x, q_rv) for x in q_rs] + [(x, p_rv) for x in p_rs] + [(k, v) for k, v in zip(d_0, d_0v)]\n",
    "\n",
    "    i, j, r = symbols(\"i, j, k\", integer=True)\n",
    "\n",
    "    #C_0f = Piecewise((0, i>j),(p_c-p_c*q_c*(Rational(10, 9) - 10**(1+i-h)/9), Eq(i,j)),(p_c*q_c/(10**(j-i-1)), i<j))\n",
    "    #R_0f = Piecewise((0, i>j),(p_r/4-p_r/4*q_r*(Rational(10, 9) - 10**(1+i-h)/9), Eq(i,j)),(p_r*q_r/(4*10**(j-i-1)), i<j))\n",
    "    Cf = Piecewise((0, i>j),(p_c-p_c*q_c*(Rational(10, 9) - 10**(2+i-h)/9), Eq(i,j)),(p_c*q_c/(10**(j-i-1)), i<j))\n",
    "    Rf = Piecewise((0, i>j),(p_r/4-p_r/4*q_r*(Rational(10, 9) - 10**(2+i-h)/9), Eq(i,j)),(p_r*q_r/(4*10**(j-i-1)), i<j))\n",
    "\n",
    "    #Cf = piecewise_fold(Piecewise((C_0f, i<m-1),(0, (i>=m-1) & Ne(i,j)),(1, (i>=m-1) & Eq(i,j))))\n",
    "    #Rf = piecewise_fold(Piecewise((R_0f, i<m-1),(0, (i>=m-1) & Ne(i,j)),(1, (i>=m-1) & Eq(i,j))))\n",
    "\n",
    "    def apply_column_based_effects(L):\n",
    "        return Matrix([[L[:,iv].subs([(q_c, q_cs[iv]), (p_c, p_cs[iv]), (q_r, q_rs[iv]), (p_r, p_rs[iv])]) for iv in range(L.shape[1])]])\n",
    "\n",
    "    C = FunctionMatrix(h, h, Lambda((j, i), Cf)).as_explicit()\n",
    "    R = FunctionMatrix(h, h, Lambda((j, i), Rf)).as_explicit()\n",
    "    C = apply_column_based_effects(C)\n",
    "    R = apply_column_based_effects(R)\n",
    "\n",
    "    if debug:\n",
    "        display(C.subs(full_subs_list))\n",
    "        display(R.subs(full_subs_list))\n",
    "\n",
    "    #CR = simplify(C * R)\n",
    "    CR = (C * R)\n",
    "    T = CR * diag(*l) + eye(h) - diag(*l)\n",
    "\n",
    "    if debug:\n",
    "        display(T.subs(full_subs_list))\n",
    "\n",
    "    def L_eigenvectors(L):\n",
    "        eigenvectors = []\n",
    "        for r in range(1, L.shape[0]+1):\n",
    "            L_minus = L - L[r-1,r-1] * eye(L.shape[0])\n",
    "            eigenvector = [0] * (r - 1) + [1]\n",
    "            for jv in range(r+1, L.shape[0]+1):\n",
    "                s = 0\n",
    "                for iv in range(1, jv):\n",
    "                    s += L_minus[jv-1,iv-1] * eigenvector[iv-1]\n",
    "                if L_minus[jv-1,jv-1]==0:\n",
    "                    assert s==0\n",
    "                    eigenvector.append(0)\n",
    "                else:   \n",
    "                    eigenvector.append(-s/L_minus[jv-1,jv-1])\n",
    "            eigenvectors.append(eigenvector)\n",
    "        return Matrix(eigenvectors).T\n",
    "\n",
    "    def L_inverse(L):\n",
    "        columns = []\n",
    "        for r in range(1, L.shape[0]+1):\n",
    "            column = [0] * (r - 1) + [1 / L[r-1,r-1]]\n",
    "            for jv in range(r+1, L.shape[0]+1):\n",
    "                s = 0\n",
    "                for iv in range(1, jv):\n",
    "                    s += L[jv-1,iv-1] * column[iv-1]\n",
    "                column.append(-s/L[jv-1,jv-1])\n",
    "            columns.append(column)\n",
    "        return Matrix(columns).T\n",
    "\n",
    "    def D_inf_val(D):\n",
    "        return diag(*[1 if D[iv,iv]==1 else 0 for iv in range(D.shape[0])])\n",
    "\n",
    "    def D_inf_sum(D):\n",
    "        #return simplify(diag(*[0 if D[iv,iv]==1 else 1/(1-D[iv,iv]) for iv in range(D.shape[0])]))\n",
    "        return diag(*[0 if D[iv,iv]==1 else 1/(1-D[iv,iv]) for iv in range(D.shape[0])])\n",
    "\n",
    "    D = diag(*Matrix.diagonal(T))\n",
    "    #E = simplify(L_eigenvectors(CR))\n",
    "    #E_inv = simplify(L_inverse(E))\n",
    "    E = L_eigenvectors(T)\n",
    "    E_inv = L_inverse(E)\n",
    "\n",
    "    #display(E)\n",
    "    #display(D)\n",
    "    #display(E_inv)\n",
    "\n",
    "    d_inf = E * D_inf_val(D) * E_inv * C * d_0\n",
    "    #display(d_inf)\n",
    "\n",
    "    L = (E * D_inf_sum(D) * E_inv * C * d_0)\n",
    "\n",
    "\n",
    "    #display(D_inf_sum(D))\n",
    "\n",
    "    #subs_list = [(q_c, q_cv), (p_c, p_cv), (q_r, q_rv), (p_r, p_rv)] + [(k, v) for k, v in zip(d_0, d_0v)]\n",
    "\n",
    "    #display(d_inf.subs(subs_list))\n",
    "    #print(float(1/d_inf.subs(subs_list)[m-1]))\n",
    "    #display(Lc.subs(subs_list))\n",
    "    #print(float(Lc.subs(subs_list)))\n",
    "    #display(Lr.subs(subs_list))\n",
    "    #print(float(Lr.subs(subs_list)))\n",
    "\n",
    "    if debug:\n",
    "        print(\"========================================\")\n",
    "        display(d_inf.subs(full_subs_list))\n",
    "        print(float(1/d_inf.subs(full_subs_list)[m-1]))\n",
    "        display(L.subs(full_subs_list))\n",
    "        print(float((l * L)[0,0].subs(full_subs_list)))\n",
    "    result = float(1/d_inf.subs(full_subs_list)[m-1])\n",
    "\n",
    "    #derivatives = [q_c, p_c, q_r, p_r]\n",
    "    full_derivatives = [*q_cs] + [*p_cs] + [*q_rs] + [*p_rs]\n",
    "    full_derivatives_bundle = list(zip([*q_cs], list(range(q_cs.shape[1])))) + list(zip([*p_cs], list(range(p_cs.shape[1])))) + \\\n",
    "                                         list(zip([*q_rs], list(range(q_rs.shape[1])))) + list(zip([*p_rs], list(range(p_rs.shape[1]))))\n",
    "    if gradients:\n",
    "        for x, g in zip(full_derivatives, [d_inf.diff(dt)[m-1,0] / (L+d_0)[i,0] for dt, i in full_derivatives_bundle]):\n",
    "            print(\"========================================\")\n",
    "            print(x)\n",
    "            print(float(g.subs(full_subs_list)))\n",
    "    \n",
    "    return result"
   ]
  },
  {
   "cell_type": "code",
   "execution_count": null,
   "metadata": {},
   "outputs": [],
   "source": [
    "quality_evaluation(0, 5, False, False, 0, 4, debug=True)"
   ]
  },
  {
   "cell_type": "code",
   "execution_count": null,
   "metadata": {},
   "outputs": [],
   "source": [
    "quality_evaluation(0, 5, False, False, 4, 0, debug=True)"
   ]
  },
  {
   "cell_type": "code",
   "execution_count": null,
   "metadata": {},
   "outputs": [],
   "source": [
    "output_dump: str = \"\"\n",
    "for starting_tier in range(0, 4):\n",
    "    for target_tier in range(starting_tier+1, 5+1):\n",
    "        for max_qual in [False, True]:\n",
    "            for max_assembler_modules in [4, 5]:\n",
    "                for base_prod in [False, True]:\n",
    "                    best_module_setup_quals = 0\n",
    "                    best_module_setup_prods = 0\n",
    "                    best_result = 10000000000000000000\n",
    "                    for prods in range(max_assembler_modules+1):\n",
    "                        quals = max_assembler_modules-prods\n",
    "\n",
    "                        result = quality_evaluation(starting_tier, target_tier, max_qual, base_prod, prods, quals)\n",
    "\n",
    "                        if result < best_result:\n",
    "                            best_result = result\n",
    "                            best_module_setup_quals = quals\n",
    "                            best_module_setup_prods = prods\n",
    "                        \n",
    "                    print(str(starting_tier+1)+\"->\"+str(target_tier)+(\" with max qual \" if max_qual else \" at base qual \")+\" with \"+str(max_assembler_modules)+\" modules and \"+str(50 if base_prod else 0)+\" base productivty:\\n\"+\\\n",
    "                          \"Proper setup is: \"+str(best_module_setup_prods)+\" productivity modules and \"+str(best_module_setup_quals)+\" quality modules, resulting in \"+str(best_result)+\" inputs per 1 output.\")\n",
    "                    output_dump += str(starting_tier+1)+\", \"+str(target_tier)+\", \"+str((5 if max_qual else 1))+\", \"+str(max_assembler_modules)+\", \"+str((50 if base_prod else 0))+\", \"+str(best_module_setup_prods)+\", \"+str(best_module_setup_quals)+\", \"+str(best_result)+\"\\n\""
   ]
  },
  {
   "cell_type": "code",
   "execution_count": null,
   "metadata": {},
   "outputs": [],
   "source": [
    "print(output_dump)"
   ]
  },
  {
   "cell_type": "code",
   "execution_count": null,
   "metadata": {},
   "outputs": [],
   "source": [
    "[*q_cs]"
   ]
  },
  {
   "cell_type": "code",
   "execution_count": null,
   "metadata": {},
   "outputs": [],
   "source": [
    "list(range(1, 5))"
   ]
  },
  {
   "cell_type": "code",
   "execution_count": null,
   "metadata": {},
   "outputs": [],
   "source": []
  },
  {
   "cell_type": "code",
   "execution_count": 1,
   "metadata": {},
   "outputs": [
    {
     "name": "stdout",
     "output_type": "stream",
     "text": [
      "{(N_{4}^{2})_5, (N_{3}^{2})_1, (N_{3}^{2})_3, (N_{1}^{2})_3, (N_{2}^{2})_2, (N_{1}^{2})_1, (N_{2}^{2})_5, (N_{5}^{2})_4, (N_{5}^{2})_5, (N_{4}^{2})_1, (N_{1}^{2})_4, (N_{1}^{2})_5, (N_{1}^{2})_2, (N_{5}^{2})_1, (N_{4}^{2})_3, (N_{3}^{2})_4, (N_{2}^{2})_1, (N_{2}^{2})_4, (N_{4}^{2})_4, (N_{5}^{2})_2, (N_{5}^{2})_3, (N_{3}^{2})_5, (N_{4}^{2})_2, (N_{3}^{2})_2, (N_{2}^{2})_3}\n"
     ]
    },
    {
     "data": {
      "text/latex": [
       "$\\displaystyle (N_{3}^{1})_1 = \\frac{p_{m_3} \\left(- 110 (N_{4}^{1})_1 p_{r_3} q_{m_3} q_{r_3} + 100 (N_{4}^{1})_1 p_{r_3} q_{r_3} - 100 (N_{4}^{1})_1 p_{r_4} q_{m_3} q_{r_4} + 100 (N_{4}^{1})_1 p_{r_4} q_{m_3} - 11 (N_{5}^{1})_1 p_{r_3} q_{m_3} q_{r_3} + 10 (N_{5}^{1})_1 p_{r_3} q_{r_3} + 100 (N_{5}^{1})_1 p_{r_4} q_{m_3} q_{r_4}\\right)}{- 121 p_{m_3} p_{r_3} q_{m_3} q_{r_3} + 110 p_{m_3} p_{r_3} q_{m_3} + 110 p_{m_3} p_{r_3} q_{r_3} - 100 p_{m_3} p_{r_3} + 400}$"
      ],
      "text/plain": [
       "Eq((N_{3}^{1})_1, p_{m_3}*(-110*(N_{4}^{1})_1*p_{r_3}*q_{m_3}*q_{r_3} + 100*(N_{4}^{1})_1*p_{r_3}*q_{r_3} - 100*(N_{4}^{1})_1*p_{r_4}*q_{m_3}*q_{r_4} + 100*(N_{4}^{1})_1*p_{r_4}*q_{m_3} - 11*(N_{5}^{1})_1*p_{r_3}*q_{m_3}*q_{r_3} + 10*(N_{5}^{1})_1*p_{r_3}*q_{r_3} + 100*(N_{5}^{1})_1*p_{r_4}*q_{m_3}*q_{r_4})/(-121*p_{m_3}*p_{r_3}*q_{m_3}*q_{r_3} + 110*p_{m_3}*p_{r_3}*q_{m_3} + 110*p_{m_3}*p_{r_3}*q_{r_3} - 100*p_{m_3}*p_{r_3} + 400))"
      ]
     },
     "metadata": {},
     "output_type": "display_data"
    },
    {
     "data": {
      "text/latex": [
       "$\\displaystyle (N_{3}^{1})_2 = \\frac{p_{m_3} \\left(- 110 (N_{4}^{1})_2 p_{r_3} q_{m_3} q_{r_3} + 100 (N_{4}^{1})_2 p_{r_3} q_{r_3} - 100 (N_{4}^{1})_2 p_{r_4} q_{m_3} q_{r_4} + 100 (N_{4}^{1})_2 p_{r_4} q_{m_3} - 11 (N_{5}^{1})_2 p_{r_3} q_{m_3} q_{r_3} + 10 (N_{5}^{1})_2 p_{r_3} q_{r_3} + 100 (N_{5}^{1})_2 p_{r_4} q_{m_3} q_{r_4}\\right)}{- 121 p_{m_3} p_{r_3} q_{m_3} q_{r_3} + 110 p_{m_3} p_{r_3} q_{m_3} + 110 p_{m_3} p_{r_3} q_{r_3} - 100 p_{m_3} p_{r_3} + 400}$"
      ],
      "text/plain": [
       "Eq((N_{3}^{1})_2, p_{m_3}*(-110*(N_{4}^{1})_2*p_{r_3}*q_{m_3}*q_{r_3} + 100*(N_{4}^{1})_2*p_{r_3}*q_{r_3} - 100*(N_{4}^{1})_2*p_{r_4}*q_{m_3}*q_{r_4} + 100*(N_{4}^{1})_2*p_{r_4}*q_{m_3} - 11*(N_{5}^{1})_2*p_{r_3}*q_{m_3}*q_{r_3} + 10*(N_{5}^{1})_2*p_{r_3}*q_{r_3} + 100*(N_{5}^{1})_2*p_{r_4}*q_{m_3}*q_{r_4})/(-121*p_{m_3}*p_{r_3}*q_{m_3}*q_{r_3} + 110*p_{m_3}*p_{r_3}*q_{m_3} + 110*p_{m_3}*p_{r_3}*q_{r_3} - 100*p_{m_3}*p_{r_3} + 400))"
      ]
     },
     "metadata": {},
     "output_type": "display_data"
    },
    {
     "data": {
      "text/latex": [
       "$\\displaystyle (N_{3}^{1})_3 = \\frac{p_{m_3} \\left(- 110 (N_{4}^{1})_3 p_{r_3} q_{m_3} q_{r_3} + 100 (N_{4}^{1})_3 p_{r_3} q_{r_3} - 100 (N_{4}^{1})_3 p_{r_4} q_{m_3} q_{r_4} + 100 (N_{4}^{1})_3 p_{r_4} q_{m_3} - 11 (N_{5}^{1})_3 p_{r_3} q_{m_3} q_{r_3} + 10 (N_{5}^{1})_3 p_{r_3} q_{r_3} + 100 (N_{5}^{1})_3 p_{r_4} q_{m_3} q_{r_4}\\right)}{- 121 p_{m_3} p_{r_3} q_{m_3} q_{r_3} + 110 p_{m_3} p_{r_3} q_{m_3} + 110 p_{m_3} p_{r_3} q_{r_3} - 100 p_{m_3} p_{r_3} + 400}$"
      ],
      "text/plain": [
       "Eq((N_{3}^{1})_3, p_{m_3}*(-110*(N_{4}^{1})_3*p_{r_3}*q_{m_3}*q_{r_3} + 100*(N_{4}^{1})_3*p_{r_3}*q_{r_3} - 100*(N_{4}^{1})_3*p_{r_4}*q_{m_3}*q_{r_4} + 100*(N_{4}^{1})_3*p_{r_4}*q_{m_3} - 11*(N_{5}^{1})_3*p_{r_3}*q_{m_3}*q_{r_3} + 10*(N_{5}^{1})_3*p_{r_3}*q_{r_3} + 100*(N_{5}^{1})_3*p_{r_4}*q_{m_3}*q_{r_4})/(-121*p_{m_3}*p_{r_3}*q_{m_3}*q_{r_3} + 110*p_{m_3}*p_{r_3}*q_{m_3} + 110*p_{m_3}*p_{r_3}*q_{r_3} - 100*p_{m_3}*p_{r_3} + 400))"
      ]
     },
     "metadata": {},
     "output_type": "display_data"
    },
    {
     "data": {
      "text/latex": [
       "$\\displaystyle (N_{3}^{1})_4 = \\frac{p_{m_3} \\left(- 110 (N_{4}^{1})_4 p_{r_3} q_{m_3} q_{r_3} + 100 (N_{4}^{1})_4 p_{r_3} q_{r_3} - 100 (N_{4}^{1})_4 p_{r_4} q_{m_3} q_{r_4} + 100 (N_{4}^{1})_4 p_{r_4} q_{m_3} - 11 (N_{5}^{1})_4 p_{r_3} q_{m_3} q_{r_3} + 10 (N_{5}^{1})_4 p_{r_3} q_{r_3} + 100 (N_{5}^{1})_4 p_{r_4} q_{m_3} q_{r_4}\\right)}{- 121 p_{m_3} p_{r_3} q_{m_3} q_{r_3} + 110 p_{m_3} p_{r_3} q_{m_3} + 110 p_{m_3} p_{r_3} q_{r_3} - 100 p_{m_3} p_{r_3} + 400}$"
      ],
      "text/plain": [
       "Eq((N_{3}^{1})_4, p_{m_3}*(-110*(N_{4}^{1})_4*p_{r_3}*q_{m_3}*q_{r_3} + 100*(N_{4}^{1})_4*p_{r_3}*q_{r_3} - 100*(N_{4}^{1})_4*p_{r_4}*q_{m_3}*q_{r_4} + 100*(N_{4}^{1})_4*p_{r_4}*q_{m_3} - 11*(N_{5}^{1})_4*p_{r_3}*q_{m_3}*q_{r_3} + 10*(N_{5}^{1})_4*p_{r_3}*q_{r_3} + 100*(N_{5}^{1})_4*p_{r_4}*q_{m_3}*q_{r_4})/(-121*p_{m_3}*p_{r_3}*q_{m_3}*q_{r_3} + 110*p_{m_3}*p_{r_3}*q_{m_3} + 110*p_{m_3}*p_{r_3}*q_{r_3} - 100*p_{m_3}*p_{r_3} + 400))"
      ]
     },
     "metadata": {},
     "output_type": "display_data"
    },
    {
     "data": {
      "text/latex": [
       "$\\displaystyle (N_{3}^{1})_5 = \\frac{p_{m_3} \\left(- 110 (N_{4}^{1})_5 p_{r_3} q_{m_3} q_{r_3} + 100 (N_{4}^{1})_5 p_{r_3} q_{r_3} - 100 (N_{4}^{1})_5 p_{r_4} q_{m_3} q_{r_4} + 100 (N_{4}^{1})_5 p_{r_4} q_{m_3} - 11 (N_{5}^{1})_5 p_{r_3} q_{m_3} q_{r_3} + 10 (N_{5}^{1})_5 p_{r_3} q_{r_3} + 100 (N_{5}^{1})_5 p_{r_4} q_{m_3} q_{r_4}\\right)}{- 121 p_{m_3} p_{r_3} q_{m_3} q_{r_3} + 110 p_{m_3} p_{r_3} q_{m_3} + 110 p_{m_3} p_{r_3} q_{r_3} - 100 p_{m_3} p_{r_3} + 400}$"
      ],
      "text/plain": [
       "Eq((N_{3}^{1})_5, p_{m_3}*(-110*(N_{4}^{1})_5*p_{r_3}*q_{m_3}*q_{r_3} + 100*(N_{4}^{1})_5*p_{r_3}*q_{r_3} - 100*(N_{4}^{1})_5*p_{r_4}*q_{m_3}*q_{r_4} + 100*(N_{4}^{1})_5*p_{r_4}*q_{m_3} - 11*(N_{5}^{1})_5*p_{r_3}*q_{m_3}*q_{r_3} + 10*(N_{5}^{1})_5*p_{r_3}*q_{r_3} + 100*(N_{5}^{1})_5*p_{r_4}*q_{m_3}*q_{r_4})/(-121*p_{m_3}*p_{r_3}*q_{m_3}*q_{r_3} + 110*p_{m_3}*p_{r_3}*q_{m_3} + 110*p_{m_3}*p_{r_3}*q_{r_3} - 100*p_{m_3}*p_{r_3} + 400))"
      ]
     },
     "metadata": {},
     "output_type": "display_data"
    },
    {
     "name": "stdout",
     "output_type": "stream",
     "text": [
      "==========================\n"
     ]
    }
   ],
   "source": [
    "#newmethod\n",
    "from sympy import *\n",
    "from sympy.stats import *\n",
    "from IPython.display import display\n",
    "\n",
    "\n",
    "kappa = 5\n",
    "m = 6\n",
    "\n",
    "q_ms = Matrix([[*symbols(\", \".join(\"q_{m_\"+str(i)+\"}\" for i in range(1, kappa+1)), rational=True, positive=True)]])\n",
    "q_rs = Matrix([[*symbols(\", \".join(\"q_{r_\"+str(i)+\"}\" for i in range(1, kappa+1)), rational=True, positive=True)]])\n",
    "p_ms = Matrix([[*symbols(\", \".join(\"p_{m_\"+str(i)+\"}\" for i in range(1, kappa+1)), rational=True, positive=True)]])\n",
    "p_rs = Matrix([[*symbols(\", \".join(\"p_{r_\"+str(i)+\"}\" for i in range(1, kappa+1)), rational=True, positive=True)]])\n",
    "\n",
    "MRVs = [FiniteRV('M'+str(i), {j: 1-q_ms[i-1]*(Rational(10,9) - Rational(Pow(10,(1-(kappa-i))),9)) if i==j else q_ms[i-1]*Rational(1,10**(j-i-1)) for j in range(i, kappa+1)}) for i in range(1, kappa+1)] # type: ignore\n",
    "#RRVs = [FiniteRV('R'+str(i), dict([(0, Rational(3,4))]+[(j, Rational(1,4) * (1-q_rs[i-1]*(Rational(10,9) - Rational(Pow(10,(1-(kappa-i))),9)) if i==j else q_rs[i-1]*Rational(1,10**(j-i-1)))) for j in range(i, kappa+1)])) for i in range(1, kappa+1)] # type: ignore\n",
    "RRVs  = [FiniteRV('R'+str(i), {j: 1-q_rs[i-1]*(Rational(10,9) - Rational(Pow(10,(1-(kappa-i))),9)) if i==j else q_rs[i-1]*Rational(1,10**(j-i-1)) for j in range(i, kappa+1)}) for i in range(1, kappa+1)] # type: ignore\n",
    "\n",
    "es = [eye(kappa).col(i) for i in range(kappa)]\n",
    "\n",
    "binom = Binomial('B', m, Rational(1, 4))\n",
    "\n",
    "#special_subs = [(q_rs[0, i], 4 * T4qual) for i in range(kappa)] + [(p_rs[0, i], 1) for i in range(kappa)] + [(q_ms[0, i], 5 * T4qual) for i in range(kappa)] + [(p_ms[0, i], 1 + Rational(1, 2)) for i in range(kappa-1)]+[(p_ms[0, kappa-1], 1 + Rational(1, 2) + 5 * T4prod)]\n",
    "\n",
    "N_i_moment_symbol_cache = {}\n",
    "def N_i_moment_symbols(n: int):\n",
    "    if not n in N_i_moment_symbol_cache.keys():\n",
    "        N_i_moment_symbol_cache[n] = [Matrix([*symbols(\", \".join(\"(N_{\"+str(i)+\"}^{\"+str(n)+\"})_\"+str(j) for j in range(1, kappa+1)), rational=True)]) for i in range(1, kappa+1)]\n",
    "\n",
    "    return N_i_moment_symbol_cache[n]\n",
    "\n",
    "def N_i_moment_n_eq(i: int, n: int):\n",
    "    moment_symbols = N_i_moment_symbols(n)\n",
    "    s = Matrix.zeros(kappa, 1)\n",
    "\n",
    "    for j in range(1, kappa):\n",
    "        r = Matrix.zeros(kappa, 1)\n",
    "        for k in range(1, kappa+1):\n",
    "            rv = P(Eq(RRVs[j-1], k)) * moment_symbols[k-1]\n",
    "            if r == Matrix.zeros(kappa, 1):\n",
    "                r = rv\n",
    "            else:\n",
    "                r += rv\n",
    "\n",
    "        s += P(Eq(MRVs[i-1], j)) * Pow(p_rs[j-1], n) * r\n",
    "    \n",
    "    s *= Pow(p_ms[i-1], n) * moment(binom, n, 0) / Pow(m, n) # type: ignore\n",
    "    \n",
    "    s += Pow(p_ms[i-1], n) * P(Eq(MRVs[i-1], kappa)) * es[kappa-1]\n",
    "\n",
    "    return [Eq(symb, solve(Eq(symb, s_v), symb)[0]) for symb, s_v in zip(moment_symbols[i-1], s)]\n",
    "\n",
    "def input_N_i_moment_n_eq(i: int, n: int):\n",
    "    moment_symbols = N_i_moment_symbols(n)\n",
    "    s = Matrix.zeros(kappa, 1)\n",
    "\n",
    "    if i==kappa:\n",
    "        s = es[kappa-1]\n",
    "\n",
    "    else:\n",
    "        for j in range(1, kappa):\n",
    "            r = Matrix.zeros(kappa, 1)\n",
    "            for k in range(1, kappa+1):\n",
    "                rv = P(Eq(RRVs[j-1], k)) * moment_symbols[k-1]\n",
    "                if r == Matrix.zeros(kappa, 1):\n",
    "                    r = rv\n",
    "                else:\n",
    "                    r += rv\n",
    "\n",
    "            s += P(Eq(MRVs[i-1], j)) * Pow(p_rs[j-1], n) * r\n",
    "        \n",
    "        s *= Pow(p_ms[i-1], n) * moment(binom, n, 0) / Pow(m, n) # type: ignore\n",
    "\n",
    "    return [Eq(symb, solve(Eq(symb, s_v), symb)[0]) for symb, s_v in zip(moment_symbols[i-1], s)]\n",
    "\n",
    "def N_moment_n_closed_forms(n: int):\n",
    "    eqs = [N_i_moment_n_eq(i, n) for i in range(1, kappa+1)]\n",
    "    solutions = {eqs[-1][-1].lhs: eqs[-1][-1].rhs}\n",
    "    for i in range(kappa-1, -1, -1):\n",
    "        for j in range(kappa-1, -1, -1):\n",
    "            solutions[eqs[i][j].lhs] = eqs[i][j].rhs.subs(solutions)\n",
    "\n",
    "    out = {}\n",
    "    for k, v in solutions.items():\n",
    "        if int(str(k)[-1])==kappa:\n",
    "            out[k] = v\n",
    "    return out\n",
    "\n",
    "def input_N_moment_n_closed_forms(n: int):\n",
    "    eqs = [input_N_i_moment_n_eq(i, n) for i in range(1, kappa+1)]\n",
    "    solutions = {eqs[-1][-1].lhs: eqs[-1][-1].rhs}\n",
    "    for i in range(kappa-1, -1, -1):\n",
    "        for j in range(kappa-1, -1, -1):\n",
    "            solutions[eqs[i][j].lhs] = eqs[i][j].rhs.subs(solutions)\n",
    "\n",
    "    out = {}\n",
    "    for k, v in solutions.items():\n",
    "        if int(str(k)[-1])==kappa:\n",
    "            out[k] = v\n",
    "    return out\n",
    "    \n",
    "#display(N_i_moment_symbols(2, 5))\n",
    "symbs = set()\n",
    "for N_i_symbs in N_i_moment_symbols(2):\n",
    "    symbs.update(N_i_symbs.free_symbols)\n",
    "print(symbs)\n",
    "for equation in input_N_i_moment_n_eq(3, 1):\n",
    "    display(equation)\n",
    "    #print(solve(equation, symbs)[0])\n",
    "print(\"==========================\")\n",
    "valuable_first_moments = N_moment_n_closed_forms(1)\n",
    "#for k, fm in valuable_first_moments.items():\n",
    "#    display(Eq(k, fm))\n",
    "valuable_second_moments = N_moment_n_closed_forms(2)\n",
    "#for k, sm in valuable_second_moments.items():\n",
    "#    display(Eq(k, sm))\n",
    "input_valuable_first_moments = input_N_moment_n_closed_forms(1)\n",
    "input_valuable_second_moments = input_N_moment_n_closed_forms(2)"
   ]
  },
  {
   "cell_type": "code",
   "execution_count": 2,
   "metadata": {},
   "outputs": [
    {
     "data": {
      "text/plain": [
       "([1, 5/17, 67/595, 33976809/757686209, 1233790001023257/68935493959315457],\n",
       " [1,\n",
       "  75/287,\n",
       "  15555/169043,\n",
       "  1115143105311/37715521308871,\n",
       "  8480132092185958497267/841641469965390413993387],\n",
       " [(3, 1), (3, 1), (4, 0), (4, 0), (4, 0)],\n",
       " [(9/4, 1/16), (9/4, 1/16), (5/2, 0), (5/2, 0), (5/2, 0)])"
      ]
     },
     "execution_count": 2,
     "metadata": {},
     "output_type": "execute_result"
    }
   ],
   "source": [
    "import itertools\n",
    "\n",
    "T4qual = Rational(1, 40) * Rational(25, 10) # type: ignore\n",
    "T4prod = Rational(10, 100) * Rational(25, 10) # type: ignore\n",
    "\n",
    "def calculate_best_setup(mod_count: int, base_prod: Rational):\n",
    "    global_subs = [(q_rs[0, i], 4 * T4qual) for i in range(kappa)] + [(p_rs[0, i], 1) for i in range(kappa)]\n",
    "    reduced = [vfm.subs(global_subs) for vfm in valuable_first_moments.values()]\n",
    "    reduced_variances = [vsm.subs(global_subs) for vsm in valuable_second_moments.values()]\n",
    "    best_setups = []\n",
    "    best_module_values = []\n",
    "    for i in range(0, kappa):\n",
    "        best = None\n",
    "        best_val = 0\n",
    "        for pc in range(0, mod_count+1):\n",
    "            val = reduced[i].subs([(p_ms[0, kappa - i - 1], T4prod * pc + base_prod + 1), (q_ms[0, kappa - i - 1], (mod_count - pc) * T4qual)])\n",
    "            if val >= best_val:\n",
    "                best = (pc, mod_count - pc)\n",
    "                best_val = val\n",
    "\n",
    "        assert not best is None\n",
    "        reduced = [r.subs([(p_ms[0, kappa - i - 1], T4prod * best[0] + base_prod + 1), (q_ms[0, kappa - i - 1], best[1] * T4qual)]) for r in reduced]\n",
    "        reduced_variances = [r.subs([(p_ms[0, kappa - i - 1], T4prod * best[0] + base_prod + 1), (q_ms[0, kappa - i - 1], best[1] * T4qual)]) for r in reduced_variances]\n",
    "        best_setups.insert(0, best)\n",
    "        best_module_values.insert(0, (T4prod * best[0] + base_prod + 1, best[1] * T4qual))\n",
    "    \n",
    "    return reduced, reduced_variances, best_setups, best_module_values\n",
    "\n",
    "def calculate_best_input_setup(mod_count: int, base_prod: Rational):\n",
    "    global_subs = [(q_rs[0, i], 4 * T4qual) for i in range(kappa)] + [(p_rs[0, i], 1) for i in range(kappa)]\n",
    "    reduced = [vfm.subs(global_subs) for vfm in input_valuable_first_moments.values()]\n",
    "    reduced_variances = [vsm.subs(global_subs) for vsm in input_valuable_second_moments.values()]\n",
    "    best_setups = []\n",
    "    best_module_values = []\n",
    "    for i in range(0, kappa):\n",
    "        best = None\n",
    "        best_val = 0\n",
    "        for pc in range(0, mod_count+1):\n",
    "            val = reduced[i].subs([(p_ms[0, kappa - i - 1], T4prod * pc + base_prod + 1), (q_ms[0, kappa - i - 1], (mod_count - pc) * T4qual)])\n",
    "            if val >= best_val:\n",
    "                best = (pc, mod_count - pc)\n",
    "                best_val = val\n",
    "\n",
    "        assert not best is None\n",
    "        reduced = [r.subs([(p_ms[0, kappa - i - 1], T4prod * best[0] + base_prod + 1), (q_ms[0, kappa - i - 1], best[1] * T4qual)]) for r in reduced]\n",
    "        reduced_variances = [r.subs([(p_ms[0, kappa - i - 1], T4prod * best[0] + base_prod + 1), (q_ms[0, kappa - i - 1], best[1] * T4qual)]) for r in reduced_variances]\n",
    "        best_setups.insert(0, best)\n",
    "        best_module_values.insert(0, (T4prod * best[0] + base_prod + 1, best[1] * T4qual))\n",
    "    \n",
    "    return reduced, reduced_variances, best_setups, best_module_values\n",
    "\n",
    "calculate_best_input_setup(4, Rational(1, 2))"
   ]
  },
  {
   "cell_type": "code",
   "execution_count": 54,
   "metadata": {},
   "outputs": [
    {
     "data": {
      "text/plain": [
       "0.47091418144393127"
      ]
     },
     "execution_count": 54,
     "metadata": {},
     "output_type": "execute_result"
    }
   ],
   "source": [
    "float(list(valuable_first_moments.values())[-1].subs([(q_rs[0, i], 4 * T4qual) for i in range(kappa)] + [(p_rs[0, i], 1) for i in range(kappa)] + [(q_ms[0, i], 5 * T4qual) for i in range(kappa)] + [(p_ms[0, i], 1 + Rational(1, 2)) for i in range(kappa-1)]+[(p_ms[0, kappa-1], 1 + Rational(1, 2) + 5 * T4prod)]))"
   ]
  },
  {
   "cell_type": "code",
   "execution_count": 56,
   "metadata": {},
   "outputs": [
    {
     "data": {
      "text/latex": [
       "$\\displaystyle \\frac{5}{16}$"
      ],
      "text/plain": [
       "5/16"
      ]
     },
     "execution_count": 56,
     "metadata": {},
     "output_type": "execute_result"
    }
   ],
   "source": [
    "5 * T4qual"
   ]
  },
  {
   "cell_type": "code",
   "execution_count": 74,
   "metadata": {},
   "outputs": [
    {
     "data": {
      "text/latex": [
       "$\\displaystyle 1$"
      ],
      "text/plain": [
       "1"
      ]
     },
     "metadata": {},
     "output_type": "display_data"
    },
    {
     "data": {
      "text/latex": [
       "$\\displaystyle \\frac{- p_{m_4} p_{r_4} q_{m_4} q_{r_4} + p_{m_4} p_{r_4} q_{r_4} + 4}{- p_{m_4} p_{r_4} q_{m_4} q_{r_4} + p_{m_4} p_{r_4} q_{m_4} + p_{m_4} p_{r_4} q_{r_4} - p_{m_4} p_{r_4} + 4}$"
      ],
      "text/plain": [
       "(-p_{m_4}*p_{r_4}*q_{m_4}*q_{r_4} + p_{m_4}*p_{r_4}*q_{r_4} + 4)/(-p_{m_4}*p_{r_4}*q_{m_4}*q_{r_4} + p_{m_4}*p_{r_4}*q_{m_4} + p_{m_4}*p_{r_4}*q_{r_4} - p_{m_4}*p_{r_4} + 4)"
      ]
     },
     "metadata": {},
     "output_type": "display_data"
    }
   ],
   "source": [
    "for v in list(input_valuable_first_moments.values())[:2]:\n",
    "    display(v)"
   ]
  },
  {
   "cell_type": "code",
   "execution_count": 22,
   "metadata": {},
   "outputs": [
    {
     "data": {
      "text/latex": [
       "$\\displaystyle \\frac{1}{4}$"
      ],
      "text/plain": [
       "1/4"
      ]
     },
     "execution_count": 22,
     "metadata": {},
     "output_type": "execute_result"
    }
   ],
   "source": [
    "moment(binom, 1, 0) / m"
   ]
  },
  {
   "cell_type": "code",
   "execution_count": null,
   "metadata": {},
   "outputs": [],
   "source": [
    "solve(Eq(q_ms[0], 1), [q_ms[0], q_ms[1]])"
   ]
  },
  {
   "cell_type": "code",
   "execution_count": null,
   "metadata": {},
   "outputs": [],
   "source": [
    "A = MatrixSymbol('A', 2, 2)\n",
    "\n",
    "# Define a 2x2 zero matrix\n",
    "zero_matrix = Matrix.zeros(2, 2)\n",
    "\n",
    "display(A[0, 1])\n",
    "\n",
    "# Create a list of scalar equations for each element of the matrix A\n",
    "equations = [Eq(A[i, j], zero_matrix[i, j]) for i in range(2) for j in range(2)]\n",
    "\n",
    "display(equations)\n",
    "\n",
    "# Solve the system of equations for A's elements\n",
    "solution = solve(equations)\n",
    "\n",
    "# Print the solution\n",
    "print(solution)"
   ]
  },
  {
   "cell_type": "code",
   "execution_count": null,
   "metadata": {},
   "outputs": [],
   "source": []
  },
  {
   "cell_type": "code",
   "execution_count": 22,
   "metadata": {},
   "outputs": [
    {
     "data": {
      "text/plain": [
       "[[743675788199256913/8625458379523026732,\n",
       "  27962498047/145244754708,\n",
       "  315139/733956,\n",
       "  121/124,\n",
       "  11/4],\n",
       " [540663198072223/70140402490833367,\n",
       "  32864737/1260301273,\n",
       "  1807/20383,\n",
       "  19/55,\n",
       "  1],\n",
       " [270329623269175/70140402490833367, 16428025/1260301273, 895/20383, 7/55, 1]]"
      ]
     },
     "metadata": {},
     "output_type": "display_data"
    },
    {
     "data": {
      "text/plain": [
       "[[('Recycle', 1), ('Recycle', 1), ('Recycle', 1), ('Recycle', 0), ('Keep', 0)],\n",
       " [('Keep', 4), ('Keep', 4), ('Keep', 4), ('Keep', 4), ('Keep', 4)],\n",
       " [('Recycle', 4), ('Recycle', 4), ('Recycle', 4), ('Recycle', 4), ('Keep', 4)]]"
      ]
     },
     "metadata": {},
     "output_type": "display_data"
    },
    {
     "data": {
      "text/plain": [
       "[[{('Keep', 0): 0.24586108315476082,\n",
       "   ('Recycle', 0): 0.9818440606557969,\n",
       "   ('Keep', 1): 0.2793867777123255,\n",
       "   ('Keep', 2): 0.30173713184647255,\n",
       "   ('Recycle', 2): 0.983537616768872,\n",
       "   ('Keep', 3): 0.31291214555720187,\n",
       "   ('Recycle', 3): 0.9422352111250879,\n",
       "   ('Keep', 4): 0.3129118188445135,\n",
       "   ('Recycle', 4): 0.8812608309073614,\n",
       "   ('Keep', 5): 0.30173615170840745,\n",
       "   ('Recycle', 5): 0.8033565148718745},\n",
       "  {('Keep', 0): 0.37248858718922406,\n",
       "   ('Recycle', 0): 0.9835346787758424,\n",
       "   ('Keep', 1): 0.4232377316388415,\n",
       "   ('Keep', 2): 0.4570645274314587,\n",
       "   ('Recycle', 2): 0.9824582983022214,\n",
       "   ('Keep', 3): 0.47396897456707554,\n",
       "   ('Recycle', 3): 0.9404818622339987,\n",
       "   ('Keep', 4): 0.4739510730456921,\n",
       "   ('Recycle', 4): 0.8791236676624978,\n",
       "   ('Keep', 5): 0.45701082286730843,\n",
       "   ('Recycle', 5): 0.8010578445889067},\n",
       "  {('Keep', 0): 0.5677937588379502,\n",
       "   ('Recycle', 0): 0.9982645248990113,\n",
       "   ('Keep', 1): 0.6427921244780891,\n",
       "   ('Keep', 2): 0.6924672941022373,\n",
       "   ('Recycle', 2): 0.9730515747843487,\n",
       "   ('Keep', 3): 0.7168192677103952,\n",
       "   ('Recycle', 3): 0.9251973635902316,\n",
       "   ('Keep', 4): 0.7158480453025624,\n",
       "   ('Recycle', 4): 0.8604887107549267,\n",
       "   ('Keep', 5): 0.6895536268787393,\n",
       "   ('Recycle', 5): 0.7810090617642422},\n",
       "  {('Keep', 0): 0.9735537190082645,\n",
       "   ('Keep', 1): 0.9898572501878287,\n",
       "   ('Recycle', 1): 0.9328476401647133,\n",
       "   ('Keep', 2): 0.985199098422239,\n",
       "   ('Recycle', 2): 0.8637770897832817,\n",
       "   ('Keep', 3): 0.9595792637114952,\n",
       "   ('Recycle', 3): 0.7916241062308478,\n",
       "   ('Keep', 4): 0.9129977460555972,\n",
       "   ('Recycle', 4): 0.7154969382948657,\n",
       "   ('Keep', 5): 0.8454545454545455,\n",
       "   ('Recycle', 5): 0.6346026854501431},\n",
       "  {('Recycle', 0): 0.0,\n",
       "   ('Keep', 1): 0.9090909090909091,\n",
       "   ('Recycle', 1): 0.0,\n",
       "   ('Keep', 2): 0.8181818181818182,\n",
       "   ('Recycle', 2): 0.0,\n",
       "   ('Keep', 3): 0.7272727272727273,\n",
       "   ('Recycle', 3): 0.0,\n",
       "   ('Keep', 4): 0.6363636363636364,\n",
       "   ('Recycle', 4): 0.0,\n",
       "   ('Keep', 5): 0.5454545454545454,\n",
       "   ('Recycle', 5): 0.0}],\n",
       " [{('Recycle', 4): 0.9720276591232315},\n",
       "  {('Recycle', 4): 0.9173054896701796},\n",
       "  {('Recycle', 4): 0.7565024903154399},\n",
       "  {('Recycle', 4): 0.3684210526315789},\n",
       "  {('Recycle', 4): 0.0}],\n",
       " [{('Keep', 4): 0.0},\n",
       "  {('Keep', 4): 0.0},\n",
       "  {('Keep', 4): 0.0},\n",
       "  {('Keep', 4): 0.0}]]"
      ]
     },
     "metadata": {},
     "output_type": "display_data"
    }
   ],
   "source": [
    "from typing import Any\n",
    "from sympy import *\n",
    "from sympy.stats import *\n",
    "from IPython.display import display\n",
    "\n",
    "\n",
    "quality_count = 5\n",
    "craft_sequence: list[tuple[int, Rational, bool]] = [(5, Rational(1, 2), True), (4, Rational(0, 2), False), (4, Rational(0, 2), False)]#, (4, Rational(0, 2), False)]\n",
    "\n",
    "qual_module_effect: Rational = Rational(1, 40) * Rational(25, 10) # type: ignore\n",
    "prod_module_effect: Rational = Rational(10, 100) * Rational(25, 10) # type: ignore\n",
    "recycling_recovery: Rational = Rational(1, 4)\n",
    "\n",
    "craft_setup_vars: list[list[Symbol]] = [[Symbol('m_'+str(i)+\"_\"+str(j), integer=True, nonnegative=True) for j in range(quality_count)] for i in range(len(craft_sequence))] #prefered: quality\n",
    "\n",
    "def upgrade_matrix(qualities: Any | list[Any]) -> MutableDenseMatrix:\n",
    "    if not isinstance(qualities, list):\n",
    "        qualities = [qualities] * quality_count\n",
    "    return Matrix([[0 if i > j else (1 - qualities[i] * Rational(10, 9) + qualities[i] * (Rational(1, 9 * (10 ** (-2 - i + quality_count))) if 2 + i - quality_count < 0 else Rational(10 ** (2 + i - quality_count), 9)) if i == j else qualities[i] * Rational(1, 10 ** (j - i - 1))) for i in range(quality_count)] for j in range(quality_count)])\n",
    "\n",
    "def recycle_step(sequence_point: int):\n",
    "    recycle_upgrades = upgrade_matrix(4 * qual_module_effect) # type: ignore\n",
    "    #display(recycle_upgrades)\n",
    "    crafting_upgrades = upgrade_matrix([v * qual_module_effect for v in craft_setup_vars[sequence_point]]) # type: ignore\n",
    "    #display(crafting_upgrades)\n",
    "    total_effect = recycling_recovery * recycle_upgrades * crafting_upgrades * diag(*[(prod_module_effect * (craft_sequence[sequence_point][0] - v) if craft_sequence[sequence_point][2] else 0) + craft_sequence[sequence_point][1] + 1 for v in craft_setup_vars[sequence_point]]) # type: ignore\n",
    "    #display(total_effect)\n",
    "    return total_effect\n",
    "\n",
    "def recycling_eliminations(sequence_point: int):\n",
    "    single_step = recycle_step(sequence_point)\n",
    "    #display(single_step[:, quality_level-1])\n",
    "    recoveries = single_step.diagonal()\n",
    "    single_step = single_step - diag(*recoveries)\n",
    "    #display(single_step[:, quality_level] / (1 - recovery))\n",
    "    return single_step * diag(*((-1 * recoveries).applyfunc(lambda x: (1 + x)**(-1))))\n",
    "\n",
    "def crafting_matrix(sequence_point: int):\n",
    "    upgrades = upgrade_matrix([qual_module_effect * v for v in craft_setup_vars[sequence_point]]) # type: ignore\n",
    "    prods_effect = [(prod_module_effect * (craft_sequence[sequence_point][0] - v) if craft_sequence[sequence_point][2] else 0) + craft_sequence[sequence_point][1] + 1 for v in craft_setup_vars[sequence_point]] # type: ignore\n",
    "    result = upgrades * diag(*prods_effect)\n",
    "    return result\n",
    "\n",
    "optimal_subs = []\n",
    "max_vals: list[list[Rational]] = [[Rational(-1)] * (quality_count - 1) + [Rational(1)]]\n",
    "best_choices: list[list[tuple[str, int]]] = [[]]\n",
    "choice_loss: list[list[dict[tuple[str, int], Rational]]] = [[]]\n",
    "for i, craft_params in reversed(list(enumerate(craft_sequence))):\n",
    "    if not craft_params[2]:\n",
    "        optimal_subs += [(v, craft_params[0]) for v in craft_setup_vars[i]]\n",
    "    possible_elims = recycling_eliminations(i).subs(optimal_subs)\n",
    "    crafting = crafting_matrix(i).subs(optimal_subs) # type: ignore\n",
    "    for j in range(quality_count-1, -1, -1):\n",
    "        if max_vals[0][j] <= 0:\n",
    "            if craft_params[2]:\n",
    "                all_choices: dict[tuple[str, int], Rational] = {}\n",
    "                for qc in range(craft_params[0]+1):\n",
    "                    added_subs = (craft_setup_vars[i][j], qc)\n",
    "                    direct_value  = crafting[:, j].dot(Matrix([max_vals[1]])).subs(*added_subs)\n",
    "                    recycle_value = possible_elims[:, j].dot(Matrix([max_vals[0]])).subs(*added_subs)\n",
    "                    all_choices[(\"Keep\", qc)] = direct_value\n",
    "                    all_choices[(\"Recycle\", qc)] = recycle_value\n",
    "                best_choice, max_val = max(all_choices.items(), key=lambda x: x[1])\n",
    "                max_vals[0][j] = max_val\n",
    "                best_choices[0].insert(0, best_choice)\n",
    "                choice_loss[0].insert(0, {k: float(v / max_val) for k, v in all_choices.items() if k!=best_choice}) # type: ignore\n",
    "            else:\n",
    "                direct_value: Rational = 0 if len(max_vals) == 1 else crafting[:, j].dot(Matrix([max_vals[1]])) # type: ignore\n",
    "                recycle_value: Rational = possible_elims[:, j].dot(Matrix([max_vals[0]]))\n",
    "                max_vals[0][j] = max(direct_value, recycle_value) # type: ignore\n",
    "                best_choices[0].insert(0, (\"Keep\" if max_vals[0][j] == direct_value else \"Recycle\", craft_params[0]))\n",
    "                choice_loss[0].insert(0, {(\"Recycle\" if max_vals[0][j] == direct_value else \"Keep\", craft_params[0]): float(recycle_value / direct_value if max_vals[0][j] == direct_value else direct_value / recycle_value)}) # type: ignore\n",
    "        else:\n",
    "            best_choices[0].insert(0, (\"Keep\", craft_params[0]))\n",
    "    if i!=0:\n",
    "        max_vals.insert(0, [Rational(-1)] * quality_count)\n",
    "        best_choices.insert(0, [])\n",
    "        choice_loss.insert(0, [])\n",
    "        \n",
    "display(max_vals)\n",
    "display(best_choices)\n",
    "display(choice_loss)"
   ]
  },
  {
   "cell_type": "code",
   "execution_count": null,
   "metadata": {},
   "outputs": [],
   "source": []
  },
  {
   "cell_type": "code",
   "execution_count": null,
   "metadata": {},
   "outputs": [],
   "source": []
  },
  {
   "cell_type": "code",
   "execution_count": 3,
   "metadata": {},
   "outputs": [
    {
     "data": {
      "text/latex": [
       "$\\displaystyle \\left[\\begin{matrix}\\frac{3}{4} & 0 & 0 & 0 & 0\\\\\\frac{9}{40} & \\frac{3}{4} & 0 & 0 & 0\\\\\\frac{9}{400} & \\frac{9}{40} & \\frac{3}{4} & 0 & 0\\\\\\frac{9}{4000} & \\frac{9}{400} & \\frac{9}{40} & \\frac{3}{4} & 0\\\\\\frac{1}{4000} & \\frac{1}{400} & \\frac{1}{40} & \\frac{1}{4} & 1\\end{matrix}\\right]$"
      ],
      "text/plain": [
       "Matrix([\n",
       "[   3/4,     0,    0,   0, 0],\n",
       "[  9/40,   3/4,    0,   0, 0],\n",
       "[ 9/400,  9/40,  3/4,   0, 0],\n",
       "[9/4000, 9/400, 9/40, 3/4, 0],\n",
       "[1/4000, 1/400, 1/40, 1/4, 1]])"
      ]
     },
     "metadata": {},
     "output_type": "display_data"
    },
    {
     "data": {
      "text/latex": [
       "$\\displaystyle \\left[\\begin{matrix}\\frac{9}{64} & 0 & 0 & 0 & 0\\\\\\frac{27}{320} & \\frac{9}{64} & 0 & 0 & 0\\\\\\frac{27}{1280} & \\frac{27}{320} & \\frac{9}{64} & 0 & 0\\\\\\frac{27}{8000} & \\frac{27}{1280} & \\frac{27}{320} & \\frac{9}{64} & 0\\\\\\frac{17}{32000} & \\frac{1}{256} & \\frac{1}{40} & \\frac{7}{64} & \\frac{1}{4}\\end{matrix}\\right]$"
      ],
      "text/plain": [
       "Matrix([\n",
       "[    9/64,       0,      0,    0,   0],\n",
       "[  27/320,    9/64,      0,    0,   0],\n",
       "[ 27/1280,  27/320,   9/64,    0,   0],\n",
       "[ 27/8000, 27/1280, 27/320, 9/64,   0],\n",
       "[17/32000,   1/256,   1/40, 7/64, 1/4]])"
      ]
     },
     "metadata": {},
     "output_type": "display_data"
    },
    {
     "data": {
      "text/latex": [
       "$\\displaystyle \\left[\\begin{matrix}\\frac{3766241}{1143828125} & \\frac{48883}{4159375} & \\frac{629}{15125} & \\frac{7}{55} & 1\\end{matrix}\\right]$"
      ],
      "text/plain": [
       "Matrix([[3766241/1143828125, 48883/4159375, 629/15125, 7/55, 1]])"
      ]
     },
     "metadata": {},
     "output_type": "display_data"
    }
   ],
   "source": [
    "from sympy import *\n",
    "from sympy.stats import *\n",
    "from IPython.display import display\n",
    "\n",
    "recycling = Rational(1, 4)\n",
    "asteroid_recycling = Rational(4, 5)\n",
    "t3productivity = Rational(1, 4)\n",
    "t3quality = Rational(1, 16)\n",
    "base_prod = Rational(1, 2)\n",
    "\n",
    "def get_quality_point(quality: Rational, start: int, end: int):\n",
    "    if start > end:\n",
    "        return 0\n",
    "    if start == end:\n",
    "        if start == 4:\n",
    "            return 1\n",
    "        else:\n",
    "            return 1 - quality\n",
    "    if end == 4:\n",
    "        return quality / (10 ** (end - start - 1))\n",
    "    return 9 * quality / (10 ** (end - start))\n",
    "\n",
    "def get_singular_quality_matrix(quality: Rational):\n",
    "    return Matrix([[get_quality_point(quality, j, i) for j in range(5)] for i in range(5)])\n",
    "\n",
    "def get_quality_matrix(qualities: list[Rational], pure_recovery: Rational = 1):\n",
    "    if len(qualities) == 0:\n",
    "        return eye(5) * pure_recovery\n",
    "    mat = prod(get_singular_quality_matrix(q) for q in qualities)\n",
    "    return mat * pure_recovery\n",
    "\n",
    "def loop_input_relative_value(qualities: list[Rational], pure_recovery: Rational):\n",
    "    mat = get_quality_matrix(qualities, pure_recovery)\n",
    "    values = [0]*4 + [1]\n",
    "    for i in range(4 -1, -1, -1):\n",
    "        for j in range(i+1, 5):\n",
    "            values[i] += values[j] * mat[j, i]\n",
    "        values[i] /= (1 - mat[i, i]) #self recovery\n",
    "\n",
    "    return Matrix([values])\n",
    "\n",
    "def relative_value_feedback(quality: Rational, relative_value: Matrix):\n",
    "    #relative_value = list(relative_value[0, :])\n",
    "    #display(get_singular_quality_matrix(quality))\n",
    "    return (relative_value * get_singular_quality_matrix(quality))\n",
    "\n",
    "def relative_value_feedback_scaling(quality: Rational, relative_value: Matrix):\n",
    "    temp = relative_value * get_singular_quality_matrix(quality)\n",
    "    return Matrix(relative_value.shape[0], relative_value.shape[1], lambda i, j : temp[i, j] / relative_value[i, j])\n",
    "\n",
    "def target_craft_input_relative_value(up_quality: list[Rational], up_recovery: Rational, target_quality: list[Rational], target_recovery: Rational, feedback_quality: list[Rational]):\n",
    "    upmatrix = get_quality_matrix(up_quality, up_recovery)\n",
    "    targetmatrix = get_quality_matrix(target_quality, target_recovery)\n",
    "\n",
    "    up_value = loop_input_relative_value(up_quality, up_recovery)\n",
    "    target_value = loop_input_relative_value(target_quality, target_recovery)\n",
    "    fix_mat = get_quality_matrix(feedback_quality)\n",
    "    fixed_target_value = [0]*4 + [1]\n",
    "    for i in range(4 -1, -1, -1):\n",
    "        for j in range(i+1, 5):\n",
    "            fixed_target_value[i] += target_value[0, j] * fix_mat[j, i]\n",
    "        fix_mat[i] /= (1 - fix_mat[i, i]) #self recovery\n",
    "    \n",
    "    return up_value, Matrix([fixed_target_value])\n",
    "\n",
    "display(get_singular_quality_matrix(4 * t3quality))\n",
    "\n",
    "recycling_setup = ([4 * t3quality, 4 * t3quality], recycling)\n",
    "\n",
    "display(get_quality_matrix(*recycling_setup))\n",
    "\n",
    "display(loop_input_relative_value(*recycling_setup))\n",
    "\n",
    "#display(relative_value_feedback(4 * t3quality, loop_input_relative_value(*recycling_setup)))\n",
    "\n",
    "#display(target_craft_input_relative_value([4 * t3quality], recycling * (1 + base_prod + 5 * t3productivity), [8 * t3quality, 4 * t3quality], recycling, [8 * t3quality, 2 * t3quality, 4 * t3quality]))\n",
    "\n",
    "#display(target_craft_input_relative_value([4 * t3quality], recycling, [4 * t3quality], recycling, [8 * t3quality]))\n",
    "\n",
    "#for q_mods in range(9):\n",
    "#    display(float(get_quality_matrix([q_mods * t3quality])[:, 0].dot(loop_input_relative_value(*recycling_setup)) * (1 + (8-q_mods) * t3productivity)))\n"
   ]
  },
  {
   "cell_type": "code",
   "execution_count": null,
   "metadata": {},
   "outputs": [
    {
     "data": {
      "text/latex": [
       "$\\displaystyle \\left[\\begin{matrix}\\frac{9}{16} & 0 & 0 & 0 & 0\\\\\\frac{27}{80} & \\frac{9}{16} & 0 & 0 & 0\\\\\\frac{27}{320} & \\frac{27}{80} & \\frac{9}{16} & 0 & 0\\\\\\frac{27}{2000} & \\frac{27}{320} & \\frac{27}{80} & \\frac{9}{16} & 0\\\\\\frac{17}{8000} & \\frac{1}{64} & \\frac{1}{10} & \\frac{7}{16} & 1\\end{matrix}\\right]$"
      ],
      "text/plain": [
       "Matrix([\n",
       "[   9/16,      0,     0,    0, 0],\n",
       "[  27/80,   9/16,     0,    0, 0],\n",
       "[ 27/320,  27/80,  9/16,    0, 0],\n",
       "[27/2000, 27/320, 27/80, 9/16, 0],\n",
       "[17/8000,   1/64,  1/10, 7/16, 1]])"
      ]
     },
     "metadata": {},
     "output_type": "display_data"
    }
   ],
   "source": [
    "display(get_quality_matrix([4 * t3quality, 4 * t3quality]))"
   ]
  },
  {
   "cell_type": "code",
   "execution_count": 46,
   "metadata": {},
   "outputs": [
    {
     "data": {
      "text/latex": [
       "$\\displaystyle \\frac{24167}{923521}$"
      ],
      "text/plain": [
       "24167/923521"
      ]
     },
     "metadata": {},
     "output_type": "display_data"
    },
    {
     "data": {
      "text/latex": [
       "$\\displaystyle \\frac{\\left(27 \\min\\left(4, \\frac{i}{10} + \\frac{11}{4}\\right)^{3} + 216 \\min\\left(4, \\frac{i}{10} + \\frac{11}{4}\\right)^{2} + 576 \\min\\left(4, \\frac{i}{10} + \\frac{11}{4}\\right) + 512\\right) \\min\\left(4, \\frac{i}{10} + \\frac{11}{4}\\right)}{125 \\cdot \\left(81 \\min\\left(4, \\frac{i}{10} + \\frac{11}{4}\\right)^{4} - 1728 \\min\\left(4, \\frac{i}{10} + \\frac{11}{4}\\right)^{3} + 13824 \\min\\left(4, \\frac{i}{10} + \\frac{11}{4}\\right)^{2} - 49152 \\min\\left(4, \\frac{i}{10} + \\frac{11}{4}\\right) + 65536\\right)}$"
      ],
      "text/plain": [
       "(27*Min(4, i/10 + 11/4)**3 + 216*Min(4, i/10 + 11/4)**2 + 576*Min(4, i/10 + 11/4) + 512)*Min(4, i/10 + 11/4)/(125*(81*Min(4, i/10 + 11/4)**4 - 1728*Min(4, i/10 + 11/4)**3 + 13824*Min(4, i/10 + 11/4)**2 - 49152*Min(4, i/10 + 11/4) + 65536))"
      ]
     },
     "metadata": {},
     "output_type": "display_data"
    },
    {
     "data": {
      "image/png": "[encoded data removed]",
      "text/plain": [
       "<Figure size 640x480 with 1 Axes>"
      ]
     },
     "metadata": {},
     "output_type": "display_data"
    },
    {
     "data": {
      "text/plain": [
       "[1.2821173688067196,\n",
       " 1.2876083994243004,\n",
       " 1.2939942965222,\n",
       " 1.3013727876940475,\n",
       " 1.3098655376353738,\n",
       " 1.319623980594158,\n",
       " 1.3308372453625212,\n",
       " 1.3437430277289266,\n",
       " 1.3586427057221866,\n",
       " 1.3759227004943717,\n",
       " 1.396085254289935,\n",
       " 1.4197937867385473,\n",
       " 1.2001175063522251,\n",
       " 1.0]"
      ]
     },
     "metadata": {},
     "output_type": "display_data"
    }
   ],
   "source": [
    "# lets answer the recycling at greens and reds vs blues question.\n",
    "\n",
    "gr_recycling_setup = ([4 * t3quality], recycling * (1 + base_prod + 5 * t3productivity))\n",
    "\n",
    "inf_up_level = symbols(\"i\")\n",
    "\n",
    "b_recycling_setup = ([4 * t3quality], recycling * Min(4, 1 + base_prod + 5 * t3productivity + inf_up_level * Rational(1, 10)))\n",
    "\n",
    "display(loop_input_relative_value(*gr_recycling_setup)[0])\n",
    "display(simplify(loop_input_relative_value(*b_recycling_setup)[0]))\n",
    "plot(1/(loop_input_relative_value(*b_recycling_setup)[0]), (inf_up_level, 0, 14))\n",
    "\n",
    "display([float((1/(loop_input_relative_value(*b_recycling_setup)[0]).subs(inf_up_level, i - 1))/(1/(loop_input_relative_value(*b_recycling_setup)[0]).subs(inf_up_level, i))) for i in range(1, 15)])"
   ]
  },
  {
   "cell_type": "code",
   "execution_count": 51,
   "metadata": {},
   "outputs": [
    {
     "data": {
      "text/plain": [
       "0.010195868070890866"
      ]
     },
     "metadata": {},
     "output_type": "display_data"
    },
    {
     "data": {
      "text/plain": [
       "0.013223975683621292"
      ]
     },
     "metadata": {},
     "output_type": "display_data"
    },
    {
     "data": {
      "text/plain": [
       "0.01426754947857425"
      ]
     },
     "metadata": {},
     "output_type": "display_data"
    }
   ],
   "source": [
    "#Foundry/module vs Metallugic pack setup\n",
    "\n",
    "foundry_recycling_setup = ([4 * t3quality, 4 * t3quality], recycling * (1 + base_prod))\n",
    "module_recycling_setup = ([4 * t3quality, 5 * t3quality], recycling * (1 + base_prod))\n",
    "science_recycling_setup = ([4 * t3quality], recycling * (1 + base_prod + 4 * t3productivity))\n",
    "\n",
    "display(float(loop_input_relative_value(*foundry_recycling_setup)[0]))\n",
    "display(float(loop_input_relative_value(*module_recycling_setup)[0]))\n",
    "display(float(loop_input_relative_value(*science_recycling_setup)[0]))"
   ]
  },
  {
   "cell_type": "code",
   "execution_count": null,
   "metadata": {},
   "outputs": [],
   "source": []
  },
  {
   "cell_type": "code",
   "execution_count": null,
   "metadata": {},
   "outputs": [],
   "source": []
  },
  {
   "cell_type": "code",
   "execution_count": null,
   "metadata": {},
   "outputs": [],
   "source": []
  },
  {
   "cell_type": "code",
   "execution_count": null,
   "metadata": {},
   "outputs": [],
   "source": []
  },
  {
   "cell_type": "code",
   "execution_count": null,
   "metadata": {},
   "outputs": [],
   "source": []
  }
 ],
 "metadata": {
  "kernelspec": {
   "display_name": "base",
   "language": "python",
   "name": "python3"
  },
  "language_info": {
   "codemirror_mode": {
    "name": "ipython",
    "version": 3
   },
   "file_extension": ".py",
   "mimetype": "text/x-python",
   "name": "python",
   "nbconvert_exporter": "python",
   "pygments_lexer": "ipython3",
   "version": "3.11.5"
  }
 },
 "nbformat": 4,
 "nbformat_minor": 2
}
