{
 "cells": [
  {
   "cell_type": "code",
   "execution_count": 1,
   "metadata": {},
   "outputs": [],
   "source": [
    "from sympy import *\n",
    "from IPython.display import display\n",
    "\n",
    "def quality_evaluation(starting_tier, target_tier, max_qual, base_prod, prods, quals, debug = False, gradients = False):\n",
    "    h = 5\n",
    "    m = target_tier\n",
    "    #h, m = symbols(\"h, m\", integer=True, positive=True, nonzero=True)\n",
    "    T4qual = Rational(1, 40) * (Rational(5, 2) if max_qual else Rational(1, 1)) # type: ignore\n",
    "    T4prod = Rational(1, 10) * (Rational(5, 2) if max_qual else Rational(1, 1)) # type: ignore\n",
    "    q_cv, p_cv, q_rv, p_rv = quals * T4qual, (1.5 if base_prod else 1.0) + prods * T4prod, 4 * T4qual, 1 # type: ignore\n",
    "    d_0v = [0, 0, 0, 0, 0]\n",
    "    d_0v[starting_tier] = 1\n",
    "\n",
    "    q_c, p_c, q_r, p_r = symbols(\"q_c, p_c, q_r, p_r\", real=True, positive=True)\n",
    "    q_cs = Matrix([[*symbols(\", \".join(\"q_{c_\"+str(i)+\"}\" for i in range(1, h+1)), real=True, positive=True)]])\n",
    "    p_cs = Matrix([[*symbols(\", \".join(\"p_{c_\"+str(i)+\"}\" for i in range(1, h+1)), real=True, positive=True)]])\n",
    "    q_rs = Matrix([[*symbols(\", \".join(\"q_{r_\"+str(i)+\"}\" for i in range(1, h+1)), real=True, positive=True)]])\n",
    "    p_rs = Matrix([[*symbols(\", \".join(\"p_{r_\"+str(i)+\"}\" for i in range(1, h+1)), real=True, positive=True)]])\n",
    "\n",
    "    #display(q_cs)\n",
    "\n",
    "    d_0 = Matrix([[*symbols(\", \".join(\"d_0\"+str(i) for i in range(1, h+1)), integer=True, positive=True, nonzero=True)]]).T\n",
    "\n",
    "    l = Matrix([[1]*(m-1)+[0]*(h+1-m)])\n",
    "    #L = diag(*l)\n",
    "\n",
    "    full_subs_list = [(x, q_cv) for x in q_cs] + [(x, p_cv) for x in p_cs] + [(x, q_rv) for x in q_rs] + [(x, p_rv) for x in p_rs] + [(k, v) for k, v in zip(d_0, d_0v)]\n",
    "\n",
    "    i, j, r = symbols(\"i, j, k\", integer=True)\n",
    "\n",
    "    #C_0f = Piecewise((0, i>j),(p_c-p_c*q_c*(Rational(10, 9) - 10**(1+i-h)/9), Eq(i,j)),(p_c*q_c/(10**(j-i-1)), i<j))\n",
    "    #R_0f = Piecewise((0, i>j),(p_r/4-p_r/4*q_r*(Rational(10, 9) - 10**(1+i-h)/9), Eq(i,j)),(p_r*q_r/(4*10**(j-i-1)), i<j))\n",
    "    Cf = Piecewise((0, i>j),(p_c-p_c*q_c*(Rational(10, 9) - 10**(2+i-h)/9), Eq(i,j)),(p_c*q_c/(10**(j-i-1)), i<j))\n",
    "    Rf = Piecewise((0, i>j),(p_r/4-p_r/4*q_r*(Rational(10, 9) - 10**(2+i-h)/9), Eq(i,j)),(p_r*q_r/(4*10**(j-i-1)), i<j))\n",
    "\n",
    "    #Cf = piecewise_fold(Piecewise((C_0f, i<m-1),(0, (i>=m-1) & Ne(i,j)),(1, (i>=m-1) & Eq(i,j))))\n",
    "    #Rf = piecewise_fold(Piecewise((R_0f, i<m-1),(0, (i>=m-1) & Ne(i,j)),(1, (i>=m-1) & Eq(i,j))))\n",
    "\n",
    "    def apply_column_based_effects(L):\n",
    "        return Matrix([[L[:,iv].subs([(q_c, q_cs[iv]), (p_c, p_cs[iv]), (q_r, q_rs[iv]), (p_r, p_rs[iv])]) for iv in range(L.shape[1])]])\n",
    "\n",
    "    C = FunctionMatrix(h, h, Lambda((j, i), Cf)).as_explicit()\n",
    "    R = FunctionMatrix(h, h, Lambda((j, i), Rf)).as_explicit()\n",
    "    C = apply_column_based_effects(C)\n",
    "    R = apply_column_based_effects(R)\n",
    "\n",
    "    if debug:\n",
    "        display(C.subs(full_subs_list))\n",
    "        display(R.subs(full_subs_list))\n",
    "\n",
    "    #CR = simplify(C * R)\n",
    "    CR = (C * R)\n",
    "    T = CR * diag(*l) + eye(h) - diag(*l)\n",
    "\n",
    "    if debug:\n",
    "        display(T.subs(full_subs_list))\n",
    "\n",
    "    def L_eigenvectors(L):\n",
    "        eigenvectors = []\n",
    "        for r in range(1, L.shape[0]+1):\n",
    "            L_minus = L - L[r-1,r-1] * eye(L.shape[0])\n",
    "            eigenvector = [0] * (r - 1) + [1]\n",
    "            for jv in range(r+1, L.shape[0]+1):\n",
    "                s = 0\n",
    "                for iv in range(1, jv):\n",
    "                    s += L_minus[jv-1,iv-1] * eigenvector[iv-1]\n",
    "                if L_minus[jv-1,jv-1]==0:\n",
    "                    assert s==0\n",
    "                    eigenvector.append(0)\n",
    "                else:   \n",
    "                    eigenvector.append(-s/L_minus[jv-1,jv-1])\n",
    "            eigenvectors.append(eigenvector)\n",
    "        return Matrix(eigenvectors).T\n",
    "\n",
    "    def L_inverse(L):\n",
    "        columns = []\n",
    "        for r in range(1, L.shape[0]+1):\n",
    "            column = [0] * (r - 1) + [1 / L[r-1,r-1]]\n",
    "            for jv in range(r+1, L.shape[0]+1):\n",
    "                s = 0\n",
    "                for iv in range(1, jv):\n",
    "                    s += L[jv-1,iv-1] * column[iv-1]\n",
    "                column.append(-s/L[jv-1,jv-1])\n",
    "            columns.append(column)\n",
    "        return Matrix(columns).T\n",
    "\n",
    "    def D_inf_val(D):\n",
    "        return diag(*[1 if D[iv,iv]==1 else 0 for iv in range(D.shape[0])])\n",
    "\n",
    "    def D_inf_sum(D):\n",
    "        #return simplify(diag(*[0 if D[iv,iv]==1 else 1/(1-D[iv,iv]) for iv in range(D.shape[0])]))\n",
    "        return diag(*[0 if D[iv,iv]==1 else 1/(1-D[iv,iv]) for iv in range(D.shape[0])])\n",
    "\n",
    "    D = diag(*Matrix.diagonal(T))\n",
    "    #E = simplify(L_eigenvectors(CR))\n",
    "    #E_inv = simplify(L_inverse(E))\n",
    "    E = L_eigenvectors(T)\n",
    "    E_inv = L_inverse(E)\n",
    "\n",
    "    #display(E)\n",
    "    #display(D)\n",
    "    #display(E_inv)\n",
    "\n",
    "    d_inf = E * D_inf_val(D) * E_inv * C * d_0\n",
    "    #display(d_inf)\n",
    "\n",
    "    L = (E * D_inf_sum(D) * E_inv * C * d_0)\n",
    "\n",
    "\n",
    "    #display(D_inf_sum(D))\n",
    "\n",
    "    #subs_list = [(q_c, q_cv), (p_c, p_cv), (q_r, q_rv), (p_r, p_rv)] + [(k, v) for k, v in zip(d_0, d_0v)]\n",
    "\n",
    "    #display(d_inf.subs(subs_list))\n",
    "    #print(float(1/d_inf.subs(subs_list)[m-1]))\n",
    "    #display(Lc.subs(subs_list))\n",
    "    #print(float(Lc.subs(subs_list)))\n",
    "    #display(Lr.subs(subs_list))\n",
    "    #print(float(Lr.subs(subs_list)))\n",
    "\n",
    "    if debug:\n",
    "        print(\"========================================\")\n",
    "        display(d_inf.subs(full_subs_list))\n",
    "        print(float(1/d_inf.subs(full_subs_list)[m-1]))\n",
    "        display(L.subs(full_subs_list))\n",
    "        print(float((l * L)[0,0].subs(full_subs_list)))\n",
    "    result = float(1/d_inf.subs(full_subs_list)[m-1])\n",
    "\n",
    "    #derivatives = [q_c, p_c, q_r, p_r]\n",
    "    full_derivatives = [*q_cs] + [*p_cs] + [*q_rs] + [*p_rs]\n",
    "    full_derivatives_bundle = list(zip([*q_cs], list(range(q_cs.shape[1])))) + list(zip([*p_cs], list(range(p_cs.shape[1])))) + \\\n",
    "                                         list(zip([*q_rs], list(range(q_rs.shape[1])))) + list(zip([*p_rs], list(range(p_rs.shape[1]))))\n",
    "    if gradients:\n",
    "        for x, g in zip(full_derivatives, [d_inf.diff(dt)[m-1,0] / (L+d_0)[i,0] for dt, i in full_derivatives_bundle]):\n",
    "            print(\"========================================\")\n",
    "            print(x)\n",
    "            print(float(g.subs(full_subs_list)))\n",
    "    \n",
    "    return result"
   ]
  },
  {
   "cell_type": "code",
   "execution_count": 5,
   "metadata": {},
   "outputs": [
    {
     "data": {
      "text/latex": [
       "$\\displaystyle \\left[\\begin{matrix}0.8889 & 0 & 0 & 0 & 0\\\\0.1 & 0.889 & 0 & 0 & 0\\\\0.01 & 0.1 & 0.89 & 0 & 0\\\\0.001 & 0.01 & 0.1 & 0.9 & 0\\\\0.0001 & 0.001 & 0.01 & 0.1 & 1.0\\end{matrix}\\right]$"
      ],
      "text/plain": [
       "Matrix([\n",
       "[0.8889,     0,    0,   0,   0],\n",
       "[   0.1, 0.889,    0,   0,   0],\n",
       "[  0.01,   0.1, 0.89,   0,   0],\n",
       "[ 0.001,  0.01,  0.1, 0.9,   0],\n",
       "[0.0001, 0.001, 0.01, 0.1, 1.0]])"
      ]
     },
     "metadata": {},
     "output_type": "display_data"
    },
    {
     "data": {
      "text/latex": [
       "$\\displaystyle \\left[\\begin{matrix}\\frac{8889}{40000} & 0 & 0 & 0 & 0\\\\\\frac{1}{40} & \\frac{889}{4000} & 0 & 0 & 0\\\\\\frac{1}{400} & \\frac{1}{40} & \\frac{89}{400} & 0 & 0\\\\\\frac{1}{4000} & \\frac{1}{400} & \\frac{1}{40} & \\frac{9}{40} & 0\\\\\\frac{1}{40000} & \\frac{1}{4000} & \\frac{1}{400} & \\frac{1}{40} & \\frac{1}{4}\\end{matrix}\\right]$"
      ],
      "text/plain": [
       "Matrix([\n",
       "[8889/40000,        0,      0,    0,   0],\n",
       "[      1/40, 889/4000,      0,    0,   0],\n",
       "[     1/400,     1/40, 89/400,    0,   0],\n",
       "[    1/4000,    1/400,   1/40, 9/40,   0],\n",
       "[   1/40000,   1/4000,  1/400, 1/40, 1/4]])"
      ]
     },
     "metadata": {},
     "output_type": "display_data"
    },
    {
     "data": {
      "text/latex": [
       "$\\displaystyle \\left[\\begin{matrix}0.1975358025 & 0 & 0 & 0 & 0\\\\0.0444475 & 0.19758025 & 0 & 0 & 0\\\\0.00694725 & 0.044475 & 0.198025 & 0 & 0\\\\0.000947225 & 0.0069725 & 0.04475 & 0.2025 & 0\\\\0.0001222225 & 0.00097225 & 0.007225 & 0.0475 & 1\\end{matrix}\\right]$"
      ],
      "text/plain": [
       "Matrix([\n",
       "[0.1975358025,          0,        0,      0, 0],\n",
       "[   0.0444475, 0.19758025,        0,      0, 0],\n",
       "[  0.00694725,   0.044475, 0.198025,      0, 0],\n",
       "[ 0.000947225,  0.0069725,  0.04475, 0.2025, 0],\n",
       "[0.0001222225, 0.00097225, 0.007225, 0.0475, 1]])"
      ]
     },
     "metadata": {},
     "output_type": "display_data"
    },
    {
     "name": "stdout",
     "output_type": "stream",
     "text": [
      "========================================\n"
     ]
    },
    {
     "data": {
      "text/latex": [
       "$\\displaystyle \\left[\\begin{matrix}0\\\\0\\\\0\\\\0\\\\0.00093573888916793\\end{matrix}\\right]$"
      ],
      "text/plain": [
       "Matrix([\n",
       "[                  0],\n",
       "[                  0],\n",
       "[                  0],\n",
       "[                  0],\n",
       "[0.00093573888916793]])"
      ]
     },
     "metadata": {},
     "output_type": "display_data"
    },
    {
     "name": "stdout",
     "output_type": "stream",
     "text": [
      "1068.6741906058978\n"
     ]
    },
    {
     "data": {
      "text/latex": [
       "$\\displaystyle \\left[\\begin{matrix}1.10771297058396\\\\0.185981304996631\\\\0.0323789114263491\\\\0.00601249481306718\\\\-0.00171904198912566\\end{matrix}\\right]$"
      ],
      "text/plain": [
       "Matrix([\n",
       "[    1.10771297058396],\n",
       "[   0.185981304996631],\n",
       "[  0.0323789114263491],\n",
       "[ 0.00601249481306718],\n",
       "[-0.00171904198912566]])"
      ]
     },
     "metadata": {},
     "output_type": "display_data"
    },
    {
     "name": "stdout",
     "output_type": "stream",
     "text": [
      "1.3320856818200086\n"
     ]
    },
    {
     "data": {
      "text/plain": [
       "1068.6741906058978"
      ]
     },
     "execution_count": 5,
     "metadata": {},
     "output_type": "execute_result"
    }
   ],
   "source": [
    "quality_evaluation(0, 5, False, False, 0, 4, debug=True)"
   ]
  },
  {
   "cell_type": "code",
   "execution_count": 6,
   "metadata": {},
   "outputs": [
    {
     "data": {
      "text/latex": [
       "$\\displaystyle \\left[\\begin{matrix}1.4 & 0 & 0 & 0 & 0\\\\0 & 1.4 & 0 & 0 & 0\\\\0 & 0 & 1.4 & 0 & 0\\\\0 & 0 & 0 & 1.4 & 0\\\\0 & 0 & 0 & 0 & 1.4\\end{matrix}\\right]$"
      ],
      "text/plain": [
       "Matrix([\n",
       "[1.4,   0,   0,   0,   0],\n",
       "[  0, 1.4,   0,   0,   0],\n",
       "[  0,   0, 1.4,   0,   0],\n",
       "[  0,   0,   0, 1.4,   0],\n",
       "[  0,   0,   0,   0, 1.4]])"
      ]
     },
     "metadata": {},
     "output_type": "display_data"
    },
    {
     "data": {
      "text/latex": [
       "$\\displaystyle \\left[\\begin{matrix}\\frac{8889}{40000} & 0 & 0 & 0 & 0\\\\\\frac{1}{40} & \\frac{889}{4000} & 0 & 0 & 0\\\\\\frac{1}{400} & \\frac{1}{40} & \\frac{89}{400} & 0 & 0\\\\\\frac{1}{4000} & \\frac{1}{400} & \\frac{1}{40} & \\frac{9}{40} & 0\\\\\\frac{1}{40000} & \\frac{1}{4000} & \\frac{1}{400} & \\frac{1}{40} & \\frac{1}{4}\\end{matrix}\\right]$"
      ],
      "text/plain": [
       "Matrix([\n",
       "[8889/40000,        0,      0,    0,   0],\n",
       "[      1/40, 889/4000,      0,    0,   0],\n",
       "[     1/400,     1/40, 89/400,    0,   0],\n",
       "[    1/4000,    1/400,   1/40, 9/40,   0],\n",
       "[   1/40000,   1/4000,  1/400, 1/40, 1/4]])"
      ]
     },
     "metadata": {},
     "output_type": "display_data"
    },
    {
     "data": {
      "text/latex": [
       "$\\displaystyle \\left[\\begin{matrix}0.311115 & 0 & 0 & 0 & 0\\\\0.035 & 0.31115 & 0 & 0 & 0\\\\0.0035 & 0.035 & 0.3115 & 0 & 0\\\\0.00035 & 0.0035 & 0.035 & 0.315 & 0\\\\3.5 \\cdot 10^{-5} & 0.00035 & 0.0035 & 0.035 & 1\\end{matrix}\\right]$"
      ],
      "text/plain": [
       "Matrix([\n",
       "[0.311115,       0,      0,     0, 0],\n",
       "[   0.035, 0.31115,      0,     0, 0],\n",
       "[  0.0035,   0.035, 0.3115,     0, 0],\n",
       "[ 0.00035,  0.0035,  0.035, 0.315, 0],\n",
       "[  3.5e-5, 0.00035, 0.0035, 0.035, 1]])"
      ]
     },
     "metadata": {},
     "output_type": "display_data"
    },
    {
     "name": "stdout",
     "output_type": "stream",
     "text": [
      "========================================\n"
     ]
    },
    {
     "data": {
      "text/latex": [
       "$\\displaystyle \\left[\\begin{matrix}0\\\\0\\\\0\\\\0\\\\0.000244472408699892\\end{matrix}\\right]$"
      ],
      "text/plain": [
       "Matrix([\n",
       "[                   0],\n",
       "[                   0],\n",
       "[                   0],\n",
       "[                   0],\n",
       "[0.000244472408699892]])"
      ]
     },
     "metadata": {},
     "output_type": "display_data"
    },
    {
     "name": "stdout",
     "output_type": "stream",
     "text": [
      "4090.4411476044124\n"
     ]
    },
    {
     "data": {
      "text/latex": [
       "$\\displaystyle \\left[\\begin{matrix}2.03226953700545\\\\0.103258232990174\\\\0.0155802201112238\\\\0.00236205253204389\\\\-0.000714810235739094\\end{matrix}\\right]$"
      ],
      "text/plain": [
       "Matrix([\n",
       "[     2.03226953700545],\n",
       "[    0.103258232990174],\n",
       "[   0.0155802201112238],\n",
       "[  0.00236205253204389],\n",
       "[-0.000714810235739094]])"
      ]
     },
     "metadata": {},
     "output_type": "display_data"
    },
    {
     "name": "stdout",
     "output_type": "stream",
     "text": [
      "2.153470042638893\n"
     ]
    },
    {
     "data": {
      "text/plain": [
       "4090.4411476044124"
      ]
     },
     "execution_count": 6,
     "metadata": {},
     "output_type": "execute_result"
    }
   ],
   "source": [
    "quality_evaluation(0, 5, False, False, 4, 0, debug=True)"
   ]
  },
  {
   "cell_type": "code",
   "execution_count": 1,
   "metadata": {},
   "outputs": [
    {
     "name": "stdout",
     "output_type": "stream",
     "text": [
      "0->1 at base qual  with 4 modules and 0 base productivty:\n",
      "Proper setup is: 4 productivity modules and 0 quality modules, resulting in 0.7142857142857143 inputs per 1 output.\n",
      "0->1 at base qual  with 4 modules and 50 base productivty:\n",
      "Proper setup is: 4 productivity modules and 0 quality modules, resulting in 0.5263157894736842 inputs per 1 output.\n",
      "0->1 at base qual  with 5 modules and 0 base productivty:\n",
      "Proper setup is: 5 productivity modules and 0 quality modules, resulting in 0.6666666666666666 inputs per 1 output.\n",
      "0->1 at base qual  with 5 modules and 50 base productivty:\n",
      "Proper setup is: 5 productivity modules and 0 quality modules, resulting in 0.5 inputs per 1 output.\n",
      "0->1 with max qual  with 4 modules and 0 base productivty:\n",
      "Proper setup is: 4 productivity modules and 0 quality modules, resulting in 0.5 inputs per 1 output.\n",
      "0->1 with max qual  with 4 modules and 50 base productivty:\n",
      "Proper setup is: 4 productivity modules and 0 quality modules, resulting in 0.4 inputs per 1 output.\n",
      "0->1 with max qual  with 5 modules and 0 base productivty:\n",
      "Proper setup is: 5 productivity modules and 0 quality modules, resulting in 0.4444444444444444 inputs per 1 output.\n",
      "0->1 with max qual  with 5 modules and 50 base productivty:\n",
      "Proper setup is: 5 productivity modules and 0 quality modules, resulting in 0.36363636363636365 inputs per 1 output.\n",
      "0->2 at base qual  with 4 modules and 0 base productivty:\n",
      "Proper setup is: 0 productivity modules and 4 quality modules, resulting in 6.70083771097438 inputs per 1 output.\n",
      "0->2 at base qual  with 4 modules and 50 base productivty:\n",
      "Proper setup is: 0 productivity modules and 4 quality modules, resulting in 3.618895785554276 inputs per 1 output.\n",
      "0->2 at base qual  with 5 modules and 0 base productivty:\n",
      "Proper setup is: 0 productivity modules and 5 quality modules, resulting in 5.633484138539265 inputs per 1 output.\n",
      "0->2 at base qual  with 5 modules and 50 base productivty:\n",
      "Proper setup is: 0 productivity modules and 5 quality modules, resulting in 3.110385723055909 inputs per 1 output.\n",
      "0->2 with max qual  with 4 modules and 0 base productivty:\n",
      "Proper setup is: 4 productivity modules and 0 quality modules, resulting in 2.5555 inputs per 1 output.\n",
      "0->2 with max qual  with 4 modules and 50 base productivty:\n",
      "Proper setup is: 4 productivity modules and 0 quality modules, resulting in 1.4044 inputs per 1 output.\n",
      "0->2 with max qual  with 5 modules and 0 base productivty:\n",
      "Proper setup is: 5 productivity modules and 0 quality modules, resulting in 1.8764938271604938 inputs per 1 output.\n",
      "0->2 with max qual  with 5 modules and 50 base productivty:\n",
      "Proper setup is: 5 productivity modules and 0 quality modules, resulting in 1.0651570247933886 inputs per 1 output.\n",
      "0->3 at base qual  with 4 modules and 0 base productivty:\n",
      "Proper setup is: 0 productivity modules and 4 quality modules, resulting in 38.510302169265245 inputs per 1 output.\n",
      "0->3 at base qual  with 4 modules and 50 base productivty:\n",
      "Proper setup is: 0 productivity modules and 4 quality modules, resulting in 16.408395871868116 inputs per 1 output.\n",
      "0->3 at base qual  with 5 modules and 0 base productivty:\n",
      "Proper setup is: 0 productivity modules and 5 quality modules, resulting in 31.333559331677943 inputs per 1 output.\n",
      "0->3 at base qual  with 5 modules and 50 base productivty:\n",
      "Proper setup is: 0 productivity modules and 5 quality modules, resulting in 13.50770431618352 inputs per 1 output.\n",
      "0->3 with max qual  with 4 modules and 0 base productivty:\n",
      "Proper setup is: 3 productivity modules and 1 quality modules, resulting in 8.203013130499016 inputs per 1 output.\n",
      "0->3 with max qual  with 4 modules and 50 base productivty:\n",
      "Proper setup is: 4 productivity modules and 0 quality modules, resulting in 3.6487372316808724 inputs per 1 output.\n",
      "0->3 with max qual  with 5 modules and 0 base productivty:\n",
      "Proper setup is: 4 productivity modules and 1 quality modules, resulting in 5.523445052626671 inputs per 1 output.\n",
      "0->3 with max qual  with 5 modules and 50 base productivty:\n",
      "Proper setup is: 5 productivity modules and 0 quality modules, resulting in 2.4125383424922133 inputs per 1 output.\n",
      "0->4 at base qual  with 4 modules and 0 base productivty:\n",
      "Proper setup is: 0 productivity modules and 4 quality modules, resulting in 208.55212391623706 inputs per 1 output.\n",
      "0->4 at base qual  with 4 modules and 50 base productivty:\n",
      "Proper setup is: 0 productivity modules and 4 quality modules, resulting in 70.82649728239322 inputs per 1 output.\n",
      "0->4 at base qual  with 5 modules and 0 base productivty:\n",
      "Proper setup is: 0 productivity modules and 5 quality modules, resulting in 161.7384958716058 inputs per 1 output.\n",
      "0->4 at base qual  with 5 modules and 50 base productivty:\n",
      "Proper setup is: 0 productivity modules and 5 quality modules, resulting in 55.11427640727007 inputs per 1 output.\n",
      "0->4 with max qual  with 4 modules and 0 base productivty:\n",
      "Proper setup is: 3 productivity modules and 1 quality modules, resulting in 25.7960129095828 inputs per 1 output.\n",
      "0->4 with max qual  with 4 modules and 50 base productivty:\n",
      "Proper setup is: 3 productivity modules and 1 quality modules, resulting in 9.447617723433241 inputs per 1 output.\n",
      "0->4 with max qual  with 5 modules and 0 base productivty:\n",
      "Proper setup is: 4 productivity modules and 1 quality modules, resulting in 15.467638535185342 inputs per 1 output.\n",
      "0->4 with max qual  with 5 modules and 50 base productivty:\n",
      "Proper setup is: 5 productivity modules and 0 quality modules, resulting in 5.449857902901292 inputs per 1 output.\n",
      "0->5 at base qual  with 4 modules and 0 base productivty:\n",
      "Proper setup is: 0 productivity modules and 4 quality modules, resulting in 1068.6741906058978 inputs per 1 output.\n",
      "0->5 at base qual  with 4 modules and 50 base productivty:\n",
      "Proper setup is: 0 productivity modules and 4 quality modules, resulting in 289.4746911332483 inputs per 1 output.\n",
      "0->5 at base qual  with 5 modules and 0 base productivty:\n",
      "Proper setup is: 0 productivity modules and 5 quality modules, resulting in 784.2570056220734 inputs per 1 output.\n",
      "0->5 at base qual  with 5 modules and 50 base productivty:\n",
      "Proper setup is: 0 productivity modules and 5 quality modules, resulting in 211.49816118395398 inputs per 1 output.\n",
      "0->5 with max qual  with 4 modules and 0 base productivty:\n",
      "Proper setup is: 3 productivity modules and 1 quality modules, resulting in 76.69792648250363 inputs per 1 output.\n",
      "0->5 with max qual  with 4 modules and 50 base productivty:\n",
      "Proper setup is: 3 productivity modules and 1 quality modules, resulting in 22.074457275904347 inputs per 1 output.\n",
      "0->5 with max qual  with 5 modules and 0 base productivty:\n",
      "Proper setup is: 4 productivity modules and 1 quality modules, resulting in 40.78255420825067 inputs per 1 output.\n",
      "0->5 with max qual  with 5 modules and 50 base productivty:\n",
      "Proper setup is: 5 productivity modules and 0 quality modules, resulting in 11.981957103729224 inputs per 1 output.\n",
      "1->2 at base qual  with 4 modules and 0 base productivty:\n",
      "Proper setup is: 4 productivity modules and 0 quality modules, resulting in 0.7142857142857143 inputs per 1 output.\n",
      "1->2 at base qual  with 4 modules and 50 base productivty:\n",
      "Proper setup is: 4 productivity modules and 0 quality modules, resulting in 0.5263157894736842 inputs per 1 output.\n",
      "1->2 at base qual  with 5 modules and 0 base productivty:\n",
      "Proper setup is: 5 productivity modules and 0 quality modules, resulting in 0.6666666666666666 inputs per 1 output.\n",
      "1->2 at base qual  with 5 modules and 50 base productivty:\n",
      "Proper setup is: 5 productivity modules and 0 quality modules, resulting in 0.5 inputs per 1 output.\n",
      "1->2 with max qual  with 4 modules and 0 base productivty:\n",
      "Proper setup is: 4 productivity modules and 0 quality modules, resulting in 0.5 inputs per 1 output.\n",
      "1->2 with max qual  with 4 modules and 50 base productivty:\n",
      "Proper setup is: 4 productivity modules and 0 quality modules, resulting in 0.4 inputs per 1 output.\n",
      "1->2 with max qual  with 5 modules and 0 base productivty:\n",
      "Proper setup is: 5 productivity modules and 0 quality modules, resulting in 0.4444444444444444 inputs per 1 output.\n",
      "1->2 with max qual  with 5 modules and 50 base productivty:\n",
      "Proper setup is: 5 productivity modules and 0 quality modules, resulting in 0.36363636363636365 inputs per 1 output.\n",
      "1->3 at base qual  with 4 modules and 0 base productivty:\n",
      "Proper setup is: 0 productivity modules and 4 quality modules, resulting in 6.699098974997964 inputs per 1 output.\n",
      "1->3 at base qual  with 4 modules and 50 base productivty:\n",
      "Proper setup is: 0 productivity modules and 4 quality modules, resulting in 3.61752957579298 inputs per 1 output.\n",
      "1->3 at base qual  with 5 modules and 0 base productivty:\n",
      "Proper setup is: 0 productivity modules and 5 quality modules, resulting in 5.631979017306913 inputs per 1 output.\n",
      "1->3 at base qual  with 5 modules and 50 base productivty:\n",
      "Proper setup is: 0 productivity modules and 5 quality modules, resulting in 3.1091594973995567 inputs per 1 output.\n",
      "1->3 with max qual  with 4 modules and 0 base productivty:\n",
      "Proper setup is: 4 productivity modules and 0 quality modules, resulting in 2.555 inputs per 1 output.\n",
      "1->3 with max qual  with 4 modules and 50 base productivty:\n",
      "Proper setup is: 4 productivity modules and 0 quality modules, resulting in 1.4040000000000001 inputs per 1 output.\n",
      "1->3 with max qual  with 5 modules and 0 base productivty:\n",
      "Proper setup is: 5 productivity modules and 0 quality modules, resulting in 1.8760493827160494 inputs per 1 output.\n",
      "1->3 with max qual  with 5 modules and 50 base productivty:\n",
      "Proper setup is: 5 productivity modules and 0 quality modules, resulting in 1.064793388429752 inputs per 1 output.\n",
      "1->4 at base qual  with 4 modules and 0 base productivty:\n",
      "Proper setup is: 0 productivity modules and 4 quality modules, resulting in 38.38143102206435 inputs per 1 output.\n",
      "1->4 at base qual  with 4 modules and 50 base productivty:\n",
      "Proper setup is: 0 productivity modules and 4 quality modules, resulting in 16.335262328904527 inputs per 1 output.\n",
      "1->4 at base qual  with 5 modules and 0 base productivty:\n",
      "Proper setup is: 0 productivity modules and 5 quality modules, resulting in 31.21576791910753 inputs per 1 output.\n",
      "1->4 at base qual  with 5 modules and 50 base productivty:\n",
      "Proper setup is: 0 productivity modules and 5 quality modules, resulting in 13.440169945286536 inputs per 1 output.\n",
      "1->4 with max qual  with 4 modules and 0 base productivty:\n",
      "Proper setup is: 3 productivity modules and 1 quality modules, resulting in 8.153294528056781 inputs per 1 output.\n",
      "1->4 with max qual  with 4 modules and 50 base productivty:\n",
      "Proper setup is: 4 productivity modules and 0 quality modules, resulting in 3.640000000000013 inputs per 1 output.\n",
      "1->4 with max qual  with 5 modules and 0 base productivty:\n",
      "Proper setup is: 4 productivity modules and 1 quality modules, resulting in 5.4869291292630304 inputs per 1 output.\n",
      "1->4 with max qual  with 5 modules and 50 base productivty:\n",
      "Proper setup is: 5 productivity modules and 0 quality modules, resulting in 2.4053390407173016 inputs per 1 output.\n",
      "1->5 at base qual  with 4 modules and 0 base productivty:\n",
      "Proper setup is: 0 productivity modules and 4 quality modules, resulting in 201.05411533694064 inputs per 1 output.\n",
      "1->5 at base qual  with 4 modules and 50 base productivty:\n",
      "Proper setup is: 0 productivity modules and 4 quality modules, resulting in 67.61235799479824 inputs per 1 output.\n",
      "1->5 at base qual  with 5 modules and 0 base productivty:\n",
      "Proper setup is: 0 productivity modules and 5 quality modules, resulting in 155.1830918339736 inputs per 1 output.\n",
      "1->5 at base qual  with 5 modules and 50 base productivty:\n",
      "Proper setup is: 0 productivity modules and 5 quality modules, resulting in 52.308667471449475 inputs per 1 output.\n",
      "1->5 with max qual  with 4 modules and 0 base productivty:\n",
      "Proper setup is: 3 productivity modules and 1 quality modules, resulting in 24.289928024398428 inputs per 1 output.\n",
      "1->5 with max qual  with 4 modules and 50 base productivty:\n",
      "Proper setup is: 3 productivity modules and 1 quality modules, resulting in 8.796699083033861 inputs per 1 output.\n",
      "1->5 with max qual  with 5 modules and 0 base productivty:\n",
      "Proper setup is: 4 productivity modules and 1 quality modules, resulting in 14.486001453752495 inputs per 1 output.\n",
      "1->5 with max qual  with 5 modules and 50 base productivty:\n",
      "Proper setup is: 5 productivity modules and 0 quality modules, resulting in 5.288334061151773 inputs per 1 output.\n",
      "2->3 at base qual  with 4 modules and 0 base productivty:\n",
      "Proper setup is: 4 productivity modules and 0 quality modules, resulting in 0.7142857142857143 inputs per 1 output.\n",
      "2->3 at base qual  with 4 modules and 50 base productivty:\n",
      "Proper setup is: 4 productivity modules and 0 quality modules, resulting in 0.5263157894736842 inputs per 1 output.\n",
      "2->3 at base qual  with 5 modules and 0 base productivty:\n",
      "Proper setup is: 5 productivity modules and 0 quality modules, resulting in 0.6666666666666666 inputs per 1 output.\n",
      "2->3 at base qual  with 5 modules and 50 base productivty:\n",
      "Proper setup is: 5 productivity modules and 0 quality modules, resulting in 0.5 inputs per 1 output.\n",
      "2->3 with max qual  with 4 modules and 0 base productivty:\n",
      "Proper setup is: 4 productivity modules and 0 quality modules, resulting in 0.5 inputs per 1 output.\n",
      "2->3 with max qual  with 4 modules and 50 base productivty:\n",
      "Proper setup is: 4 productivity modules and 0 quality modules, resulting in 0.4 inputs per 1 output.\n",
      "2->3 with max qual  with 5 modules and 0 base productivty:\n",
      "Proper setup is: 5 productivity modules and 0 quality modules, resulting in 0.4444444444444444 inputs per 1 output.\n",
      "2->3 with max qual  with 5 modules and 50 base productivty:\n",
      "Proper setup is: 5 productivity modules and 0 quality modules, resulting in 0.36363636363636365 inputs per 1 output.\n",
      "2->4 at base qual  with 4 modules and 0 base productivty:\n",
      "Proper setup is: 0 productivity modules and 4 quality modules, resulting in 6.6817329722974375 inputs per 1 output.\n",
      "2->4 at base qual  with 4 modules and 50 base productivty:\n",
      "Proper setup is: 0 productivity modules and 4 quality modules, resulting in 3.603896311961292 inputs per 1 output.\n",
      "2->4 at base qual  with 5 modules and 0 base productivty:\n",
      "Proper setup is: 0 productivity modules and 5 quality modules, resulting in 5.616942709747488 inputs per 1 output.\n",
      "2->4 at base qual  with 5 modules and 50 base productivty:\n",
      "Proper setup is: 0 productivity modules and 5 quality modules, resulting in 3.096921051513993 inputs per 1 output.\n",
      "2->4 with max qual  with 4 modules and 0 base productivty:\n",
      "Proper setup is: 3 productivity modules and 1 quality modules, resulting in 2.548520654543448 inputs per 1 output.\n",
      "2->4 with max qual  with 4 modules and 50 base productivty:\n",
      "Proper setup is: 4 productivity modules and 0 quality modules, resulting in 1.4 inputs per 1 output.\n",
      "2->4 with max qual  with 5 modules and 0 base productivty:\n",
      "Proper setup is: 5 productivity modules and 0 quality modules, resulting in 1.871604938271605 inputs per 1 output.\n",
      "2->4 with max qual  with 5 modules and 50 base productivty:\n",
      "Proper setup is: 5 productivity modules and 0 quality modules, resulting in 1.0611570247933884 inputs per 1 output.\n",
      "2->5 at base qual  with 4 modules and 0 base productivty:\n",
      "Proper setup is: 0 productivity modules and 4 quality modules, resulting in 37.130492995308494 inputs per 1 output.\n",
      "2->5 at base qual  with 4 modules and 50 base productivty:\n",
      "Proper setup is: 0 productivity modules and 4 quality modules, resulting in 15.630637717759924 inputs per 1 output.\n",
      "2->5 at base qual  with 5 modules and 0 base productivty:\n",
      "Proper setup is: 0 productivity modules and 5 quality modules, resulting in 30.076361200743825 inputs per 1 output.\n",
      "2->5 at base qual  with 5 modules and 50 base productivty:\n",
      "Proper setup is: 0 productivity modules and 5 quality modules, resulting in 12.79232568509448 inputs per 1 output.\n",
      "2->5 with max qual  with 4 modules and 0 base productivty:\n",
      "Proper setup is: 3 productivity modules and 1 quality modules, resulting in 7.678322618251136 inputs per 1 output.\n",
      "2->5 with max qual  with 4 modules and 50 base productivty:\n",
      "Proper setup is: 3 productivity modules and 1 quality modules, resulting in 3.502060494272308 inputs per 1 output.\n",
      "2->5 with max qual  with 5 modules and 0 base productivty:\n",
      "Proper setup is: 4 productivity modules and 1 quality modules, resulting in 5.138637790791062 inputs per 1 output.\n",
      "2->5 with max qual  with 5 modules and 50 base productivty:\n",
      "Proper setup is: 5 productivity modules and 0 quality modules, resulting in 2.3330402672762487 inputs per 1 output.\n",
      "3->4 at base qual  with 4 modules and 0 base productivty:\n",
      "Proper setup is: 4 productivity modules and 0 quality modules, resulting in 0.7142857142857143 inputs per 1 output.\n",
      "3->4 at base qual  with 4 modules and 50 base productivty:\n",
      "Proper setup is: 4 productivity modules and 0 quality modules, resulting in 0.5263157894736842 inputs per 1 output.\n",
      "3->4 at base qual  with 5 modules and 0 base productivty:\n",
      "Proper setup is: 5 productivity modules and 0 quality modules, resulting in 0.6666666666666666 inputs per 1 output.\n",
      "3->4 at base qual  with 5 modules and 50 base productivty:\n",
      "Proper setup is: 5 productivity modules and 0 quality modules, resulting in 0.5 inputs per 1 output.\n",
      "3->4 with max qual  with 4 modules and 0 base productivty:\n",
      "Proper setup is: 4 productivity modules and 0 quality modules, resulting in 0.5 inputs per 1 output.\n",
      "3->4 with max qual  with 4 modules and 50 base productivty:\n",
      "Proper setup is: 4 productivity modules and 0 quality modules, resulting in 0.4 inputs per 1 output.\n",
      "3->4 with max qual  with 5 modules and 0 base productivty:\n",
      "Proper setup is: 5 productivity modules and 0 quality modules, resulting in 0.4444444444444444 inputs per 1 output.\n",
      "3->4 with max qual  with 5 modules and 50 base productivty:\n",
      "Proper setup is: 5 productivity modules and 0 quality modules, resulting in 0.36363636363636365 inputs per 1 output.\n",
      "3->5 at base qual  with 4 modules and 0 base productivty:\n",
      "Proper setup is: 0 productivity modules and 4 quality modules, resulting in 6.510204081632652 inputs per 1 output.\n",
      "3->5 at base qual  with 4 modules and 50 base productivty:\n",
      "Proper setup is: 0 productivity modules and 4 quality modules, resulting in 3.4704049844236753 inputs per 1 output.\n",
      "3->5 at base qual  with 5 modules and 0 base productivty:\n",
      "Proper setup is: 0 productivity modules and 5 quality modules, resulting in 5.468085106382978 inputs per 1 output.\n",
      "3->5 at base qual  with 5 modules and 50 base productivty:\n",
      "Proper setup is: 0 productivity modules and 5 quality modules, resulting in 2.9768976897689767 inputs per 1 output.\n",
      "3->5 with max qual  with 4 modules and 0 base productivty:\n",
      "Proper setup is: 3 productivity modules and 1 quality modules, resulting in 2.3972950126796277 inputs per 1 output.\n",
      "3->5 with max qual  with 4 modules and 50 base productivty:\n",
      "Proper setup is: 4 productivity modules and 0 quality modules, resulting in 1.36 inputs per 1 output.\n",
      "3->5 with max qual  with 5 modules and 0 base productivty:\n",
      "Proper setup is: 4 productivity modules and 1 quality modules, resulting in 1.8043478260869565 inputs per 1 output.\n",
      "3->5 with max qual  with 5 modules and 50 base productivty:\n",
      "Proper setup is: 5 productivity modules and 0 quality modules, resulting in 1.024793388429752 inputs per 1 output.\n"
     ]
    }
   ],
   "source": [
    "output_dump: str = \"\"\n",
    "for starting_tier in range(0, 4):\n",
    "    for target_tier in range(starting_tier+1, 5+1):\n",
    "        for max_qual in [False, True]:\n",
    "            for max_assembler_modules in [4, 5]:\n",
    "                for base_prod in [False, True]:\n",
    "                    best_module_setup_quals = 0\n",
    "                    best_module_setup_prods = 0\n",
    "                    best_result = 10000000000000000000\n",
    "                    for prods in range(max_assembler_modules+1):\n",
    "                        quals = max_assembler_modules-prods\n",
    "\n",
    "                        result = quality_evaluation(starting_tier, target_tier, max_qual, base_prod, prods, quals)\n",
    "\n",
    "                        if result < best_result:\n",
    "                            best_result = result\n",
    "                            best_module_setup_quals = quals\n",
    "                            best_module_setup_prods = prods\n",
    "                        \n",
    "                    print(str(starting_tier+1)+\"->\"+str(target_tier)+(\" with max qual \" if max_qual else \" at base qual \")+\" with \"+str(max_assembler_modules)+\" modules and \"+str(50 if base_prod else 0)+\" base productivty:\\n\"+\\\n",
    "                          \"Proper setup is: \"+str(best_module_setup_prods)+\" productivity modules and \"+str(best_module_setup_quals)+\" quality modules, resulting in \"+str(best_result)+\" inputs per 1 output.\")\n",
    "                    output_dump += str(starting_tier+1)+\", \"+str(target_tier)+\", \"+str((5 if max_qual else 1))+\", \"+str(max_assembler_modules)+\", \"+str((50 if base_prod else 0))+\", \"+str(best_module_setup_prods)+\", \"+str(best_module_setup_quals)+\", \"+str(best_result)+\"\\n\""
   ]
  },
  {
   "cell_type": "code",
   "execution_count": 2,
   "metadata": {},
   "outputs": [
    {
     "name": "stdout",
     "output_type": "stream",
     "text": [
      "0, 1, 1, 4, 0, 4, 0, 0.7142857142857143\n",
      "0, 1, 1, 4, 50, 4, 0, 0.5263157894736842\n",
      "0, 1, 1, 5, 0, 5, 0, 0.6666666666666666\n",
      "0, 1, 1, 5, 50, 5, 0, 0.5\n",
      "0, 1, 5, 4, 0, 4, 0, 0.5\n",
      "0, 1, 5, 4, 50, 4, 0, 0.4\n",
      "0, 1, 5, 5, 0, 5, 0, 0.4444444444444444\n",
      "0, 1, 5, 5, 50, 5, 0, 0.36363636363636365\n",
      "0, 2, 1, 4, 0, 0, 4, 6.70083771097438\n",
      "0, 2, 1, 4, 50, 0, 4, 3.618895785554276\n",
      "0, 2, 1, 5, 0, 0, 5, 5.633484138539265\n",
      "0, 2, 1, 5, 50, 0, 5, 3.110385723055909\n",
      "0, 2, 5, 4, 0, 4, 0, 2.5555\n",
      "0, 2, 5, 4, 50, 4, 0, 1.4044\n",
      "0, 2, 5, 5, 0, 5, 0, 1.8764938271604938\n",
      "0, 2, 5, 5, 50, 5, 0, 1.0651570247933886\n",
      "0, 3, 1, 4, 0, 0, 4, 38.510302169265245\n",
      "0, 3, 1, 4, 50, 0, 4, 16.408395871868116\n",
      "0, 3, 1, 5, 0, 0, 5, 31.333559331677943\n",
      "0, 3, 1, 5, 50, 0, 5, 13.50770431618352\n",
      "0, 3, 5, 4, 0, 3, 1, 8.203013130499016\n",
      "0, 3, 5, 4, 50, 4, 0, 3.6487372316808724\n",
      "0, 3, 5, 5, 0, 4, 1, 5.523445052626671\n",
      "0, 3, 5, 5, 50, 5, 0, 2.4125383424922133\n",
      "0, 4, 1, 4, 0, 0, 4, 208.55212391623706\n",
      "0, 4, 1, 4, 50, 0, 4, 70.82649728239322\n",
      "0, 4, 1, 5, 0, 0, 5, 161.7384958716058\n",
      "0, 4, 1, 5, 50, 0, 5, 55.11427640727007\n",
      "0, 4, 5, 4, 0, 3, 1, 25.7960129095828\n",
      "0, 4, 5, 4, 50, 3, 1, 9.447617723433241\n",
      "0, 4, 5, 5, 0, 4, 1, 15.467638535185342\n",
      "0, 4, 5, 5, 50, 5, 0, 5.449857902901292\n",
      "0, 5, 1, 4, 0, 0, 4, 1068.6741906058978\n",
      "0, 5, 1, 4, 50, 0, 4, 289.4746911332483\n",
      "0, 5, 1, 5, 0, 0, 5, 784.2570056220734\n",
      "0, 5, 1, 5, 50, 0, 5, 211.49816118395398\n",
      "0, 5, 5, 4, 0, 3, 1, 76.69792648250363\n",
      "0, 5, 5, 4, 50, 3, 1, 22.074457275904347\n",
      "0, 5, 5, 5, 0, 4, 1, 40.78255420825067\n",
      "0, 5, 5, 5, 50, 5, 0, 11.981957103729224\n",
      "1, 2, 1, 4, 0, 4, 0, 0.7142857142857143\n",
      "1, 2, 1, 4, 50, 4, 0, 0.5263157894736842\n",
      "1, 2, 1, 5, 0, 5, 0, 0.6666666666666666\n",
      "1, 2, 1, 5, 50, 5, 0, 0.5\n",
      "1, 2, 5, 4, 0, 4, 0, 0.5\n",
      "1, 2, 5, 4, 50, 4, 0, 0.4\n",
      "1, 2, 5, 5, 0, 5, 0, 0.4444444444444444\n",
      "1, 2, 5, 5, 50, 5, 0, 0.36363636363636365\n",
      "1, 3, 1, 4, 0, 0, 4, 6.699098974997964\n",
      "1, 3, 1, 4, 50, 0, 4, 3.61752957579298\n",
      "1, 3, 1, 5, 0, 0, 5, 5.631979017306913\n",
      "1, 3, 1, 5, 50, 0, 5, 3.1091594973995567\n",
      "1, 3, 5, 4, 0, 4, 0, 2.555\n",
      "1, 3, 5, 4, 50, 4, 0, 1.4040000000000001\n",
      "1, 3, 5, 5, 0, 5, 0, 1.8760493827160494\n",
      "1, 3, 5, 5, 50, 5, 0, 1.064793388429752\n",
      "1, 4, 1, 4, 0, 0, 4, 38.38143102206435\n",
      "1, 4, 1, 4, 50, 0, 4, 16.335262328904527\n",
      "1, 4, 1, 5, 0, 0, 5, 31.21576791910753\n",
      "1, 4, 1, 5, 50, 0, 5, 13.440169945286536\n",
      "1, 4, 5, 4, 0, 3, 1, 8.153294528056781\n",
      "1, 4, 5, 4, 50, 4, 0, 3.640000000000013\n",
      "1, 4, 5, 5, 0, 4, 1, 5.4869291292630304\n",
      "1, 4, 5, 5, 50, 5, 0, 2.4053390407173016\n",
      "1, 5, 1, 4, 0, 0, 4, 201.05411533694064\n",
      "1, 5, 1, 4, 50, 0, 4, 67.61235799479824\n",
      "1, 5, 1, 5, 0, 0, 5, 155.1830918339736\n",
      "1, 5, 1, 5, 50, 0, 5, 52.308667471449475\n",
      "1, 5, 5, 4, 0, 3, 1, 24.289928024398428\n",
      "1, 5, 5, 4, 50, 3, 1, 8.796699083033861\n",
      "1, 5, 5, 5, 0, 4, 1, 14.486001453752495\n",
      "1, 5, 5, 5, 50, 5, 0, 5.288334061151773\n",
      "2, 3, 1, 4, 0, 4, 0, 0.7142857142857143\n",
      "2, 3, 1, 4, 50, 4, 0, 0.5263157894736842\n",
      "2, 3, 1, 5, 0, 5, 0, 0.6666666666666666\n",
      "2, 3, 1, 5, 50, 5, 0, 0.5\n",
      "2, 3, 5, 4, 0, 4, 0, 0.5\n",
      "2, 3, 5, 4, 50, 4, 0, 0.4\n",
      "2, 3, 5, 5, 0, 5, 0, 0.4444444444444444\n",
      "2, 3, 5, 5, 50, 5, 0, 0.36363636363636365\n",
      "2, 4, 1, 4, 0, 0, 4, 6.6817329722974375\n",
      "2, 4, 1, 4, 50, 0, 4, 3.603896311961292\n",
      "2, 4, 1, 5, 0, 0, 5, 5.616942709747488\n",
      "2, 4, 1, 5, 50, 0, 5, 3.096921051513993\n",
      "2, 4, 5, 4, 0, 3, 1, 2.548520654543448\n",
      "2, 4, 5, 4, 50, 4, 0, 1.4\n",
      "2, 4, 5, 5, 0, 5, 0, 1.871604938271605\n",
      "2, 4, 5, 5, 50, 5, 0, 1.0611570247933884\n",
      "2, 5, 1, 4, 0, 0, 4, 37.130492995308494\n",
      "2, 5, 1, 4, 50, 0, 4, 15.630637717759924\n",
      "2, 5, 1, 5, 0, 0, 5, 30.076361200743825\n",
      "2, 5, 1, 5, 50, 0, 5, 12.79232568509448\n",
      "2, 5, 5, 4, 0, 3, 1, 7.678322618251136\n",
      "2, 5, 5, 4, 50, 3, 1, 3.502060494272308\n",
      "2, 5, 5, 5, 0, 4, 1, 5.138637790791062\n",
      "2, 5, 5, 5, 50, 5, 0, 2.3330402672762487\n",
      "3, 4, 1, 4, 0, 4, 0, 0.7142857142857143\n",
      "3, 4, 1, 4, 50, 4, 0, 0.5263157894736842\n",
      "3, 4, 1, 5, 0, 5, 0, 0.6666666666666666\n",
      "3, 4, 1, 5, 50, 5, 0, 0.5\n",
      "3, 4, 5, 4, 0, 4, 0, 0.5\n",
      "3, 4, 5, 4, 50, 4, 0, 0.4\n",
      "3, 4, 5, 5, 0, 5, 0, 0.4444444444444444\n",
      "3, 4, 5, 5, 50, 5, 0, 0.36363636363636365\n",
      "3, 5, 1, 4, 0, 0, 4, 6.510204081632652\n",
      "3, 5, 1, 4, 50, 0, 4, 3.4704049844236753\n",
      "3, 5, 1, 5, 0, 0, 5, 5.468085106382978\n",
      "3, 5, 1, 5, 50, 0, 5, 2.9768976897689767\n",
      "3, 5, 5, 4, 0, 3, 1, 2.3972950126796277\n",
      "3, 5, 5, 4, 50, 4, 0, 1.36\n",
      "3, 5, 5, 5, 0, 4, 1, 1.8043478260869565\n",
      "3, 5, 5, 5, 50, 5, 0, 1.024793388429752\n",
      "\n"
     ]
    }
   ],
   "source": [
    "print(output_dump)"
   ]
  },
  {
   "cell_type": "code",
   "execution_count": 4,
   "metadata": {},
   "outputs": [
    {
     "data": {
      "text/plain": [
       "[q_{c_1}, q_{c_2}, q_{c_3}, q_{c_4}, q_{c_5}]"
      ]
     },
     "execution_count": 4,
     "metadata": {},
     "output_type": "execute_result"
    }
   ],
   "source": [
    "[*q_cs]"
   ]
  },
  {
   "cell_type": "code",
   "execution_count": 3,
   "metadata": {},
   "outputs": [
    {
     "data": {
      "text/plain": [
       "[1, 2, 3, 4]"
      ]
     },
     "execution_count": 3,
     "metadata": {},
     "output_type": "execute_result"
    }
   ],
   "source": [
    "list(range(1, 5))"
   ]
  },
  {
   "cell_type": "code",
   "execution_count": null,
   "metadata": {},
   "outputs": [],
   "source": []
  },
  {
   "cell_type": "code",
   "execution_count": null,
   "metadata": {},
   "outputs": [],
   "source": []
  },
  {
   "cell_type": "code",
   "execution_count": null,
   "metadata": {},
   "outputs": [],
   "source": []
  }
 ],
 "metadata": {
  "language_info": {
   "name": "python"
  }
 },
 "nbformat": 4,
 "nbformat_minor": 2
}
